{
 "cells": [
  {
   "cell_type": "markdown",
   "metadata": {},
   "source": [
    "### Group Project Phase #2"
   ]
  },
  {
   "cell_type": "markdown",
   "metadata": {},
   "source": [
    "For our predictive question, we are asking if specific quantitative characteristics of a track (danceability and energy) can help predict a new song's popularity on the music streaming service, Spotify.\n",
    "\n",
    "Idea for Phase #2: Conduct regression analyses with two predictive variables to see which results in the smallest RSME."
   ]
  },
  {
   "cell_type": "markdown",
   "metadata": {},
   "source": [
    "First, we load any necessary packages required for our data cleaning and wrangling, analyses, and visualizations."
   ]
  },
  {
   "cell_type": "code",
   "execution_count": 2,
   "metadata": {},
   "outputs": [
    {
     "name": "stderr",
     "output_type": "stream",
     "text": [
      "── \u001b[1mAttaching packages\u001b[22m ─────────────────────────────────────── tidyverse 1.3.0 ──\n",
      "\n",
      "\u001b[32m✔\u001b[39m \u001b[34mggplot2\u001b[39m 3.3.2     \u001b[32m✔\u001b[39m \u001b[34mpurrr  \u001b[39m 0.3.4\n",
      "\u001b[32m✔\u001b[39m \u001b[34mtibble \u001b[39m 3.0.3     \u001b[32m✔\u001b[39m \u001b[34mdplyr  \u001b[39m 1.0.2\n",
      "\u001b[32m✔\u001b[39m \u001b[34mtidyr  \u001b[39m 1.1.2     \u001b[32m✔\u001b[39m \u001b[34mstringr\u001b[39m 1.4.0\n",
      "\u001b[32m✔\u001b[39m \u001b[34mreadr  \u001b[39m 1.3.1     \u001b[32m✔\u001b[39m \u001b[34mforcats\u001b[39m 0.5.0\n",
      "\n",
      "Warning message:\n",
      "“package ‘ggplot2’ was built under R version 4.0.1”\n",
      "Warning message:\n",
      "“package ‘tibble’ was built under R version 4.0.2”\n",
      "Warning message:\n",
      "“package ‘tidyr’ was built under R version 4.0.2”\n",
      "Warning message:\n",
      "“package ‘dplyr’ was built under R version 4.0.2”\n",
      "── \u001b[1mConflicts\u001b[22m ────────────────────────────────────────── tidyverse_conflicts() ──\n",
      "\u001b[31m✖\u001b[39m \u001b[34mdplyr\u001b[39m::\u001b[32mfilter()\u001b[39m masks \u001b[34mstats\u001b[39m::filter()\n",
      "\u001b[31m✖\u001b[39m \u001b[34mdplyr\u001b[39m::\u001b[32mlag()\u001b[39m    masks \u001b[34mstats\u001b[39m::lag()\n",
      "\n",
      "Warning message:\n",
      "“package ‘tidymodels’ was built under R version 4.0.2”\n",
      "── \u001b[1mAttaching packages\u001b[22m ────────────────────────────────────── tidymodels 0.1.1 ──\n",
      "\n",
      "\u001b[32m✔\u001b[39m \u001b[34mbroom    \u001b[39m 0.7.0      \u001b[32m✔\u001b[39m \u001b[34mrecipes  \u001b[39m 0.1.13\n",
      "\u001b[32m✔\u001b[39m \u001b[34mdials    \u001b[39m 0.0.9      \u001b[32m✔\u001b[39m \u001b[34mrsample  \u001b[39m 0.0.7 \n",
      "\u001b[32m✔\u001b[39m \u001b[34minfer    \u001b[39m 0.5.4      \u001b[32m✔\u001b[39m \u001b[34mtune     \u001b[39m 0.1.1 \n",
      "\u001b[32m✔\u001b[39m \u001b[34mmodeldata\u001b[39m 0.0.2      \u001b[32m✔\u001b[39m \u001b[34mworkflows\u001b[39m 0.2.0 \n",
      "\u001b[32m✔\u001b[39m \u001b[34mparsnip  \u001b[39m 0.1.3      \u001b[32m✔\u001b[39m \u001b[34myardstick\u001b[39m 0.0.7 \n",
      "\n",
      "Warning message:\n",
      "“package ‘broom’ was built under R version 4.0.2”\n",
      "Warning message:\n",
      "“package ‘dials’ was built under R version 4.0.2”\n",
      "Warning message:\n",
      "“package ‘infer’ was built under R version 4.0.3”\n",
      "Warning message:\n",
      "“package ‘modeldata’ was built under R version 4.0.1”\n",
      "Warning message:\n",
      "“package ‘parsnip’ was built under R version 4.0.2”\n",
      "Warning message:\n",
      "“package ‘recipes’ was built under R version 4.0.1”\n",
      "Warning message:\n",
      "“package ‘tune’ was built under R version 4.0.2”\n",
      "Warning message:\n",
      "“package ‘workflows’ was built under R version 4.0.2”\n",
      "Warning message:\n",
      "“package ‘yardstick’ was built under R version 4.0.2”\n",
      "── \u001b[1mConflicts\u001b[22m ───────────────────────────────────────── tidymodels_conflicts() ──\n",
      "\u001b[31m✖\u001b[39m \u001b[34mscales\u001b[39m::\u001b[32mdiscard()\u001b[39m masks \u001b[34mpurrr\u001b[39m::discard()\n",
      "\u001b[31m✖\u001b[39m \u001b[34mdplyr\u001b[39m::\u001b[32mfilter()\u001b[39m   masks \u001b[34mstats\u001b[39m::filter()\n",
      "\u001b[31m✖\u001b[39m \u001b[34mrecipes\u001b[39m::\u001b[32mfixed()\u001b[39m  masks \u001b[34mstringr\u001b[39m::fixed()\n",
      "\u001b[31m✖\u001b[39m \u001b[34mdplyr\u001b[39m::\u001b[32mlag()\u001b[39m      masks \u001b[34mstats\u001b[39m::lag()\n",
      "\u001b[31m✖\u001b[39m \u001b[34myardstick\u001b[39m::\u001b[32mspec()\u001b[39m masks \u001b[34mreadr\u001b[39m::spec()\n",
      "\u001b[31m✖\u001b[39m \u001b[34mrecipes\u001b[39m::\u001b[32mstep()\u001b[39m   masks \u001b[34mstats\u001b[39m::step()\n",
      "\n",
      "Warning message:\n",
      "“package ‘cowplot’ was built under R version 4.0.3”\n"
     ]
    }
   ],
   "source": [
    "library(tidyverse)\n",
    "library(repr)\n",
    "library(tidymodels)\n",
    "library(cowplot)\n",
    "library(RColorBrewer)\n",
    "\n",
    "options(repr.plot.width= 30, repr.plot.height= 10)"
   ]
  },
  {
   "cell_type": "markdown",
   "metadata": {},
   "source": [
    "We then read in our chosen dataset from our GitHub repository. In order to ensure that our analyses are reproducible, we used the set.seed function (set to an arbritrary number) to generate the same random selection of data throughout our analysis to maintain consistent results."
   ]
  },
  {
   "cell_type": "code",
   "execution_count": 3,
   "metadata": {},
   "outputs": [
    {
     "name": "stderr",
     "output_type": "stream",
     "text": [
      "Parsed with column specification:\n",
      "cols(\n",
      "  genre = \u001b[31mcol_character()\u001b[39m,\n",
      "  artist_name = \u001b[31mcol_character()\u001b[39m,\n",
      "  track_name = \u001b[31mcol_character()\u001b[39m,\n",
      "  track_id = \u001b[31mcol_character()\u001b[39m,\n",
      "  popularity = \u001b[32mcol_double()\u001b[39m,\n",
      "  acousticness = \u001b[32mcol_double()\u001b[39m,\n",
      "  danceability = \u001b[32mcol_double()\u001b[39m,\n",
      "  duration_ms = \u001b[32mcol_double()\u001b[39m,\n",
      "  energy = \u001b[32mcol_double()\u001b[39m,\n",
      "  instrumentalness = \u001b[32mcol_double()\u001b[39m,\n",
      "  key = \u001b[31mcol_character()\u001b[39m,\n",
      "  liveness = \u001b[32mcol_double()\u001b[39m,\n",
      "  loudness = \u001b[32mcol_double()\u001b[39m,\n",
      "  mode = \u001b[31mcol_character()\u001b[39m,\n",
      "  speechiness = \u001b[32mcol_double()\u001b[39m,\n",
      "  tempo = \u001b[32mcol_double()\u001b[39m,\n",
      "  time_signature = \u001b[31mcol_character()\u001b[39m,\n",
      "  valence = \u001b[32mcol_double()\u001b[39m\n",
      ")\n",
      "\n",
      "Warning message:\n",
      "“1 parsing failure.\n",
      "   row col   expected     actual                                                                                             file\n",
      "115177  -- 18 columns 15 columns 'https://raw.githubusercontent.com/chrislukita/DSCI100-Group-Final/main/data/SpotifyDataset.csv'\n",
      "”\n"
     ]
    }
   ],
   "source": [
    "set.seed(2022)\n",
    "\n",
    "spotify_raw_data = read_csv(\"https://raw.githubusercontent.com/chrislukita/DSCI100-Group-Final/main/data/SpotifyDataset.csv\")"
   ]
  },
  {
   "cell_type": "markdown",
   "metadata": {},
   "source": [
    "Since our dataset is quite sizeable, we decided to cut it roughly in half to cut down on data processing time while still maintaining a considerable amount of data for training and testing our regression model."
   ]
  },
  {
   "cell_type": "code",
   "execution_count": 4,
   "metadata": {},
   "outputs": [],
   "source": [
    "random_spotify = slice_sample(spotify_raw_data, n = 50000)"
   ]
  },
  {
   "cell_type": "markdown",
   "metadata": {},
   "source": [
    "After cutting our data set, we perform some data wrangling to select only our desired columns (popularity, danceability, and energy), as well as omitting any \"NA\" values that may interfere with our data analysis. These steps help clean up the data by removing any values that are unnecessary for our particular analysis."
   ]
  },
  {
   "cell_type": "code",
   "execution_count": 6,
   "metadata": {},
   "outputs": [
    {
     "data": {
      "text/html": [
       "<table>\n",
       "<caption>A tibble: 50000 × 3</caption>\n",
       "<thead>\n",
       "\t<tr><th scope=col>popularity</th><th scope=col>danceability</th><th scope=col>energy</th></tr>\n",
       "\t<tr><th scope=col>&lt;dbl&gt;</th><th scope=col>&lt;dbl&gt;</th><th scope=col>&lt;dbl&gt;</th></tr>\n",
       "</thead>\n",
       "<tbody>\n",
       "\t<tr><td>88</td><td>0.553</td><td>0.502</td></tr>\n",
       "\t<tr><td>52</td><td>0.450</td><td>0.840</td></tr>\n",
       "\t<tr><td>56</td><td>0.414</td><td>0.267</td></tr>\n",
       "\t<tr><td>61</td><td>0.544</td><td>0.446</td></tr>\n",
       "\t<tr><td>64</td><td>0.704</td><td>0.558</td></tr>\n",
       "\t<tr><td>51</td><td>0.549</td><td>0.888</td></tr>\n",
       "\t<tr><td>50</td><td>0.470</td><td>0.988</td></tr>\n",
       "\t<tr><td>39</td><td>0.722</td><td>0.763</td></tr>\n",
       "\t<tr><td>49</td><td>0.395</td><td>0.977</td></tr>\n",
       "\t<tr><td>35</td><td>0.693</td><td>0.775</td></tr>\n",
       "\t<tr><td>35</td><td>0.626</td><td>0.676</td></tr>\n",
       "\t<tr><td>51</td><td>0.483</td><td>0.532</td></tr>\n",
       "\t<tr><td>34</td><td>0.620</td><td>0.553</td></tr>\n",
       "\t<tr><td>58</td><td>0.508</td><td>0.953</td></tr>\n",
       "\t<tr><td>50</td><td>0.575</td><td>0.414</td></tr>\n",
       "\t<tr><td>39</td><td>0.412</td><td>0.717</td></tr>\n",
       "\t<tr><td>45</td><td>0.870</td><td>0.143</td></tr>\n",
       "\t<tr><td>32</td><td>0.514</td><td>0.726</td></tr>\n",
       "\t<tr><td>32</td><td>0.499</td><td>0.947</td></tr>\n",
       "\t<tr><td>51</td><td>0.505</td><td>0.687</td></tr>\n",
       "\t<tr><td>47</td><td>0.425</td><td>0.862</td></tr>\n",
       "\t<tr><td>58</td><td>0.436</td><td>0.804</td></tr>\n",
       "\t<tr><td>55</td><td>0.579</td><td>0.759</td></tr>\n",
       "\t<tr><td>45</td><td>0.296</td><td>0.292</td></tr>\n",
       "\t<tr><td>49</td><td>0.481</td><td>0.747</td></tr>\n",
       "\t<tr><td>42</td><td>0.551</td><td>0.896</td></tr>\n",
       "\t<tr><td>63</td><td>0.634</td><td>0.489</td></tr>\n",
       "\t<tr><td>22</td><td>0.589</td><td>0.943</td></tr>\n",
       "\t<tr><td>25</td><td>0.420</td><td>0.746</td></tr>\n",
       "\t<tr><td>28</td><td>0.640</td><td>0.730</td></tr>\n",
       "\t<tr><td>⋮</td><td>⋮</td><td>⋮</td></tr>\n",
       "\t<tr><td>58</td><td>0.705</td><td>0.8870</td></tr>\n",
       "\t<tr><td>23</td><td>0.388</td><td>0.9720</td></tr>\n",
       "\t<tr><td>43</td><td>0.633</td><td>0.9800</td></tr>\n",
       "\t<tr><td>52</td><td>0.582</td><td>0.4740</td></tr>\n",
       "\t<tr><td> 0</td><td>0.606</td><td>0.3790</td></tr>\n",
       "\t<tr><td>11</td><td>0.424</td><td>0.8260</td></tr>\n",
       "\t<tr><td>44</td><td>0.651</td><td>0.1890</td></tr>\n",
       "\t<tr><td>41</td><td>0.512</td><td>0.6580</td></tr>\n",
       "\t<tr><td> 5</td><td>0.332</td><td>0.0111</td></tr>\n",
       "\t<tr><td>55</td><td>0.766</td><td>0.6620</td></tr>\n",
       "\t<tr><td>61</td><td>0.437</td><td>0.7480</td></tr>\n",
       "\t<tr><td>66</td><td>0.553</td><td>0.8370</td></tr>\n",
       "\t<tr><td>55</td><td>0.261</td><td>0.9380</td></tr>\n",
       "\t<tr><td>65</td><td>0.479</td><td>0.3500</td></tr>\n",
       "\t<tr><td>45</td><td>0.726</td><td>0.3300</td></tr>\n",
       "\t<tr><td>57</td><td>0.700</td><td>0.8240</td></tr>\n",
       "\t<tr><td>63</td><td>0.543</td><td>0.5670</td></tr>\n",
       "\t<tr><td>31</td><td>0.801</td><td>0.5400</td></tr>\n",
       "\t<tr><td>33</td><td>0.736</td><td>0.4490</td></tr>\n",
       "\t<tr><td>19</td><td>0.393</td><td>0.9130</td></tr>\n",
       "\t<tr><td>37</td><td>0.422</td><td>0.8990</td></tr>\n",
       "\t<tr><td>70</td><td>0.171</td><td>0.3300</td></tr>\n",
       "\t<tr><td>62</td><td>0.736</td><td>0.3790</td></tr>\n",
       "\t<tr><td>41</td><td>0.477</td><td>0.6480</td></tr>\n",
       "\t<tr><td>49</td><td>0.546</td><td>0.5270</td></tr>\n",
       "\t<tr><td>46</td><td>0.828</td><td>0.6800</td></tr>\n",
       "\t<tr><td>69</td><td>0.673</td><td>0.6140</td></tr>\n",
       "\t<tr><td>61</td><td>0.853</td><td>0.5410</td></tr>\n",
       "\t<tr><td>69</td><td>0.804</td><td>0.7740</td></tr>\n",
       "\t<tr><td>31</td><td>0.535</td><td>0.4980</td></tr>\n",
       "</tbody>\n",
       "</table>\n"
      ],
      "text/latex": [
       "A tibble: 50000 × 3\n",
       "\\begin{tabular}{lll}\n",
       " popularity & danceability & energy\\\\\n",
       " <dbl> & <dbl> & <dbl>\\\\\n",
       "\\hline\n",
       "\t 88 & 0.553 & 0.502\\\\\n",
       "\t 52 & 0.450 & 0.840\\\\\n",
       "\t 56 & 0.414 & 0.267\\\\\n",
       "\t 61 & 0.544 & 0.446\\\\\n",
       "\t 64 & 0.704 & 0.558\\\\\n",
       "\t 51 & 0.549 & 0.888\\\\\n",
       "\t 50 & 0.470 & 0.988\\\\\n",
       "\t 39 & 0.722 & 0.763\\\\\n",
       "\t 49 & 0.395 & 0.977\\\\\n",
       "\t 35 & 0.693 & 0.775\\\\\n",
       "\t 35 & 0.626 & 0.676\\\\\n",
       "\t 51 & 0.483 & 0.532\\\\\n",
       "\t 34 & 0.620 & 0.553\\\\\n",
       "\t 58 & 0.508 & 0.953\\\\\n",
       "\t 50 & 0.575 & 0.414\\\\\n",
       "\t 39 & 0.412 & 0.717\\\\\n",
       "\t 45 & 0.870 & 0.143\\\\\n",
       "\t 32 & 0.514 & 0.726\\\\\n",
       "\t 32 & 0.499 & 0.947\\\\\n",
       "\t 51 & 0.505 & 0.687\\\\\n",
       "\t 47 & 0.425 & 0.862\\\\\n",
       "\t 58 & 0.436 & 0.804\\\\\n",
       "\t 55 & 0.579 & 0.759\\\\\n",
       "\t 45 & 0.296 & 0.292\\\\\n",
       "\t 49 & 0.481 & 0.747\\\\\n",
       "\t 42 & 0.551 & 0.896\\\\\n",
       "\t 63 & 0.634 & 0.489\\\\\n",
       "\t 22 & 0.589 & 0.943\\\\\n",
       "\t 25 & 0.420 & 0.746\\\\\n",
       "\t 28 & 0.640 & 0.730\\\\\n",
       "\t ⋮ & ⋮ & ⋮\\\\\n",
       "\t 58 & 0.705 & 0.8870\\\\\n",
       "\t 23 & 0.388 & 0.9720\\\\\n",
       "\t 43 & 0.633 & 0.9800\\\\\n",
       "\t 52 & 0.582 & 0.4740\\\\\n",
       "\t  0 & 0.606 & 0.3790\\\\\n",
       "\t 11 & 0.424 & 0.8260\\\\\n",
       "\t 44 & 0.651 & 0.1890\\\\\n",
       "\t 41 & 0.512 & 0.6580\\\\\n",
       "\t  5 & 0.332 & 0.0111\\\\\n",
       "\t 55 & 0.766 & 0.6620\\\\\n",
       "\t 61 & 0.437 & 0.7480\\\\\n",
       "\t 66 & 0.553 & 0.8370\\\\\n",
       "\t 55 & 0.261 & 0.9380\\\\\n",
       "\t 65 & 0.479 & 0.3500\\\\\n",
       "\t 45 & 0.726 & 0.3300\\\\\n",
       "\t 57 & 0.700 & 0.8240\\\\\n",
       "\t 63 & 0.543 & 0.5670\\\\\n",
       "\t 31 & 0.801 & 0.5400\\\\\n",
       "\t 33 & 0.736 & 0.4490\\\\\n",
       "\t 19 & 0.393 & 0.9130\\\\\n",
       "\t 37 & 0.422 & 0.8990\\\\\n",
       "\t 70 & 0.171 & 0.3300\\\\\n",
       "\t 62 & 0.736 & 0.3790\\\\\n",
       "\t 41 & 0.477 & 0.6480\\\\\n",
       "\t 49 & 0.546 & 0.5270\\\\\n",
       "\t 46 & 0.828 & 0.6800\\\\\n",
       "\t 69 & 0.673 & 0.6140\\\\\n",
       "\t 61 & 0.853 & 0.5410\\\\\n",
       "\t 69 & 0.804 & 0.7740\\\\\n",
       "\t 31 & 0.535 & 0.4980\\\\\n",
       "\\end{tabular}\n"
      ],
      "text/markdown": [
       "\n",
       "A tibble: 50000 × 3\n",
       "\n",
       "| popularity &lt;dbl&gt; | danceability &lt;dbl&gt; | energy &lt;dbl&gt; |\n",
       "|---|---|---|\n",
       "| 88 | 0.553 | 0.502 |\n",
       "| 52 | 0.450 | 0.840 |\n",
       "| 56 | 0.414 | 0.267 |\n",
       "| 61 | 0.544 | 0.446 |\n",
       "| 64 | 0.704 | 0.558 |\n",
       "| 51 | 0.549 | 0.888 |\n",
       "| 50 | 0.470 | 0.988 |\n",
       "| 39 | 0.722 | 0.763 |\n",
       "| 49 | 0.395 | 0.977 |\n",
       "| 35 | 0.693 | 0.775 |\n",
       "| 35 | 0.626 | 0.676 |\n",
       "| 51 | 0.483 | 0.532 |\n",
       "| 34 | 0.620 | 0.553 |\n",
       "| 58 | 0.508 | 0.953 |\n",
       "| 50 | 0.575 | 0.414 |\n",
       "| 39 | 0.412 | 0.717 |\n",
       "| 45 | 0.870 | 0.143 |\n",
       "| 32 | 0.514 | 0.726 |\n",
       "| 32 | 0.499 | 0.947 |\n",
       "| 51 | 0.505 | 0.687 |\n",
       "| 47 | 0.425 | 0.862 |\n",
       "| 58 | 0.436 | 0.804 |\n",
       "| 55 | 0.579 | 0.759 |\n",
       "| 45 | 0.296 | 0.292 |\n",
       "| 49 | 0.481 | 0.747 |\n",
       "| 42 | 0.551 | 0.896 |\n",
       "| 63 | 0.634 | 0.489 |\n",
       "| 22 | 0.589 | 0.943 |\n",
       "| 25 | 0.420 | 0.746 |\n",
       "| 28 | 0.640 | 0.730 |\n",
       "| ⋮ | ⋮ | ⋮ |\n",
       "| 58 | 0.705 | 0.8870 |\n",
       "| 23 | 0.388 | 0.9720 |\n",
       "| 43 | 0.633 | 0.9800 |\n",
       "| 52 | 0.582 | 0.4740 |\n",
       "|  0 | 0.606 | 0.3790 |\n",
       "| 11 | 0.424 | 0.8260 |\n",
       "| 44 | 0.651 | 0.1890 |\n",
       "| 41 | 0.512 | 0.6580 |\n",
       "|  5 | 0.332 | 0.0111 |\n",
       "| 55 | 0.766 | 0.6620 |\n",
       "| 61 | 0.437 | 0.7480 |\n",
       "| 66 | 0.553 | 0.8370 |\n",
       "| 55 | 0.261 | 0.9380 |\n",
       "| 65 | 0.479 | 0.3500 |\n",
       "| 45 | 0.726 | 0.3300 |\n",
       "| 57 | 0.700 | 0.8240 |\n",
       "| 63 | 0.543 | 0.5670 |\n",
       "| 31 | 0.801 | 0.5400 |\n",
       "| 33 | 0.736 | 0.4490 |\n",
       "| 19 | 0.393 | 0.9130 |\n",
       "| 37 | 0.422 | 0.8990 |\n",
       "| 70 | 0.171 | 0.3300 |\n",
       "| 62 | 0.736 | 0.3790 |\n",
       "| 41 | 0.477 | 0.6480 |\n",
       "| 49 | 0.546 | 0.5270 |\n",
       "| 46 | 0.828 | 0.6800 |\n",
       "| 69 | 0.673 | 0.6140 |\n",
       "| 61 | 0.853 | 0.5410 |\n",
       "| 69 | 0.804 | 0.7740 |\n",
       "| 31 | 0.535 | 0.4980 |\n",
       "\n"
      ],
      "text/plain": [
       "      popularity danceability energy\n",
       "1     88         0.553        0.502 \n",
       "2     52         0.450        0.840 \n",
       "3     56         0.414        0.267 \n",
       "4     61         0.544        0.446 \n",
       "5     64         0.704        0.558 \n",
       "6     51         0.549        0.888 \n",
       "7     50         0.470        0.988 \n",
       "8     39         0.722        0.763 \n",
       "9     49         0.395        0.977 \n",
       "10    35         0.693        0.775 \n",
       "11    35         0.626        0.676 \n",
       "12    51         0.483        0.532 \n",
       "13    34         0.620        0.553 \n",
       "14    58         0.508        0.953 \n",
       "15    50         0.575        0.414 \n",
       "16    39         0.412        0.717 \n",
       "17    45         0.870        0.143 \n",
       "18    32         0.514        0.726 \n",
       "19    32         0.499        0.947 \n",
       "20    51         0.505        0.687 \n",
       "21    47         0.425        0.862 \n",
       "22    58         0.436        0.804 \n",
       "23    55         0.579        0.759 \n",
       "24    45         0.296        0.292 \n",
       "25    49         0.481        0.747 \n",
       "26    42         0.551        0.896 \n",
       "27    63         0.634        0.489 \n",
       "28    22         0.589        0.943 \n",
       "29    25         0.420        0.746 \n",
       "30    28         0.640        0.730 \n",
       "⋮     ⋮          ⋮            ⋮     \n",
       "49971 58         0.705        0.8870\n",
       "49972 23         0.388        0.9720\n",
       "49973 43         0.633        0.9800\n",
       "49974 52         0.582        0.4740\n",
       "49975  0         0.606        0.3790\n",
       "49976 11         0.424        0.8260\n",
       "49977 44         0.651        0.1890\n",
       "49978 41         0.512        0.6580\n",
       "49979  5         0.332        0.0111\n",
       "49980 55         0.766        0.6620\n",
       "49981 61         0.437        0.7480\n",
       "49982 66         0.553        0.8370\n",
       "49983 55         0.261        0.9380\n",
       "49984 65         0.479        0.3500\n",
       "49985 45         0.726        0.3300\n",
       "49986 57         0.700        0.8240\n",
       "49987 63         0.543        0.5670\n",
       "49988 31         0.801        0.5400\n",
       "49989 33         0.736        0.4490\n",
       "49990 19         0.393        0.9130\n",
       "49991 37         0.422        0.8990\n",
       "49992 70         0.171        0.3300\n",
       "49993 62         0.736        0.3790\n",
       "49994 41         0.477        0.6480\n",
       "49995 49         0.546        0.5270\n",
       "49996 46         0.828        0.6800\n",
       "49997 69         0.673        0.6140\n",
       "49998 61         0.853        0.5410\n",
       "49999 69         0.804        0.7740\n",
       "50000 31         0.535        0.4980"
      ]
     },
     "metadata": {},
     "output_type": "display_data"
    }
   ],
   "source": [
    "spotify_wrangled = random_spotify %>%\n",
    "                    select(popularity, danceability, energy) %>%\n",
    "                    na.omit(spotify_wrangled)\n",
    "spotify_wrangled"
   ]
  },
  {
   "cell_type": "code",
   "execution_count": 133,
   "metadata": {},
   "outputs": [],
   "source": [
    "# spotify_wrangled = spotify_wrangled %>%\n",
    "#                     mutate(popular = popularity >= 65) %>%\n",
    "#                     mutate(popular = as.factor(popular))\n",
    "\n",
    "# levels(spotify_wrangled$popular)[2] <- 'Yes'\n",
    "# levels(spotify_wrangled$popular)[1] <- 'No'"
   ]
  },
  {
   "cell_type": "markdown",
   "metadata": {},
   "source": [
    "^guess we can delete hey?"
   ]
  },
  {
   "cell_type": "code",
   "execution_count": 13,
   "metadata": {},
   "outputs": [],
   "source": [
    "# options(repr.plot.width= 15, repr.plot.height= 10)\n",
    "\n",
    "# spotify_really_small = slice_sample(spotify_wrangled, n = 1000)\n",
    "\n",
    "# popularity_plot = spotify_really_small %>%\n",
    "#                 ggplot(aes(x = energy, y = danceability\n",
    "#                            , color = popular)) + \n",
    "#                 geom_point()\n",
    "\n",
    "# popularity_plot"
   ]
  },
  {
   "cell_type": "markdown",
   "metadata": {},
   "source": [
    "^dang and this haha"
   ]
  },
  {
   "cell_type": "code",
   "execution_count": 9,
   "metadata": {},
   "outputs": [],
   "source": [
    "spotify_split = initial_split(spotify_wrangled, prop = 0.75, strata = popularity)\n",
    "\n",
    "spotify_train = training(spotify_split)\n",
    "spotify_test = testing(spotify_split)"
   ]
  },
  {
   "cell_type": "code",
   "execution_count": 10,
   "metadata": {},
   "outputs": [],
   "source": [
    "# spotify_proportions = spotify_train %>%\n",
    "#             group_by(popular) %>%\n",
    "#             summarize(n = n()) %>%\n",
    "#             mutate(percent = 100*n/nrow(spotify_train))\n",
    "\n",
    "# spotify_proportions"
   ]
  },
  {
   "cell_type": "markdown",
   "metadata": {},
   "source": [
    "^prob delete as well?"
   ]
  },
  {
   "cell_type": "markdown",
   "metadata": {},
   "source": [
    "**Tuning model to find best K value using two predictors**"
   ]
  },
  {
   "cell_type": "markdown",
   "metadata": {},
   "source": [
    "Here we create our model's recipe using the training data set, where we inidicate the response variable and the desired predictors. In the recipe we also scale and center the data so that the values are being compared using relative scales and metrics to avoid  one or more variables exhibiting disproportionate influence on the model's outputs."
   ]
  },
  {
   "cell_type": "code",
   "execution_count": 11,
   "metadata": {},
   "outputs": [
    {
     "data": {
      "text/plain": [
       "Data Recipe\n",
       "\n",
       "Inputs:\n",
       "\n",
       "      role #variables\n",
       "   outcome          1\n",
       " predictor          2\n",
       "\n",
       "Operations:\n",
       "\n",
       "Scaling for all_predictors()\n",
       "Centering for all_predictors()"
      ]
     },
     "metadata": {},
     "output_type": "display_data"
    }
   ],
   "source": [
    "spotify_recipe <- recipe(popularity ~ danceability + energy, data = spotify_train) %>%\n",
    "                        step_scale(all_predictors()) %>%\n",
    "                        step_center(all_predictors())\n",
    "\n",
    "spotify_recipe"
   ]
  },
  {
   "cell_type": "markdown",
   "metadata": {},
   "source": [
    "Next, we create the model specifications using the knn algorithm for regression which predicts the response variable's value based on the values of neighbouring points. Since, we want to find the optimal value of neighbours that reduce's our model's RMSE, we set neighbours to \"tune()\" while we continue to train the model."
   ]
  },
  {
   "cell_type": "code",
   "execution_count": 12,
   "metadata": {},
   "outputs": [],
   "source": [
    "knn_tune <- nearest_neighbor(weight_func = \"rectangular\", neighbors = tune()) %>%\n",
    "            set_engine(\"kknn\") %>%\n",
    "            set_mode(\"regression\")"
   ]
  },
  {
   "cell_type": "code",
   "execution_count": 14,
   "metadata": {},
   "outputs": [],
   "source": [
    "spotify_vfold <- vfold_cv(spotify_train, v = 5, strata = popularity)"
   ]
  },
  {
   "cell_type": "code",
   "execution_count": 15,
   "metadata": {},
   "outputs": [],
   "source": [
    "spotify_results <- workflow() %>%\n",
    "                      add_recipe(spotify_recipe) %>%\n",
    "                      add_model(knn_tune) %>%\n",
    "                      tune_grid(resamples = spotify_vfold, grid = 10) %>%\n",
    "                      collect_metrics()"
   ]
  },
  {
   "cell_type": "code",
   "execution_count": 20,
   "metadata": {},
   "outputs": [
    {
     "data": {
      "text/html": [
       "<table>\n",
       "<caption>A tibble: 10 × 7</caption>\n",
       "<thead>\n",
       "\t<tr><th scope=col>neighbors</th><th scope=col>.metric</th><th scope=col>.estimator</th><th scope=col>mean</th><th scope=col>n</th><th scope=col>std_err</th><th scope=col>.config</th></tr>\n",
       "\t<tr><th scope=col>&lt;int&gt;</th><th scope=col>&lt;chr&gt;</th><th scope=col>&lt;chr&gt;</th><th scope=col>&lt;dbl&gt;</th><th scope=col>&lt;int&gt;</th><th scope=col>&lt;dbl&gt;</th><th scope=col>&lt;chr&gt;</th></tr>\n",
       "</thead>\n",
       "<tbody>\n",
       "\t<tr><td> 2</td><td>rmse</td><td>standard</td><td>20.57846</td><td>5</td><td>0.06316393</td><td>Model01</td></tr>\n",
       "\t<tr><td> 3</td><td>rmse</td><td>standard</td><td>19.64028</td><td>5</td><td>0.07025384</td><td>Model02</td></tr>\n",
       "\t<tr><td> 5</td><td>rmse</td><td>standard</td><td>18.81895</td><td>5</td><td>0.06910413</td><td>Model03</td></tr>\n",
       "\t<tr><td> 6</td><td>rmse</td><td>standard</td><td>18.61078</td><td>5</td><td>0.07478422</td><td>Model04</td></tr>\n",
       "\t<tr><td> 7</td><td>rmse</td><td>standard</td><td>18.47275</td><td>5</td><td>0.07390812</td><td>Model05</td></tr>\n",
       "\t<tr><td> 8</td><td>rmse</td><td>standard</td><td>18.35581</td><td>5</td><td>0.07234437</td><td>Model06</td></tr>\n",
       "\t<tr><td> 9</td><td>rmse</td><td>standard</td><td>18.26115</td><td>5</td><td>0.06925482</td><td>Model07</td></tr>\n",
       "\t<tr><td>12</td><td>rmse</td><td>standard</td><td>18.05051</td><td>5</td><td>0.06516387</td><td>Model08</td></tr>\n",
       "\t<tr><td>13</td><td>rmse</td><td>standard</td><td>18.00890</td><td>5</td><td>0.06668086</td><td>Model09</td></tr>\n",
       "\t<tr><td>15</td><td>rmse</td><td>standard</td><td>17.94499</td><td>5</td><td>0.06068080</td><td>Model10</td></tr>\n",
       "</tbody>\n",
       "</table>\n"
      ],
      "text/latex": [
       "A tibble: 10 × 7\n",
       "\\begin{tabular}{lllllll}\n",
       " neighbors & .metric & .estimator & mean & n & std\\_err & .config\\\\\n",
       " <int> & <chr> & <chr> & <dbl> & <int> & <dbl> & <chr>\\\\\n",
       "\\hline\n",
       "\t  2 & rmse & standard & 20.57846 & 5 & 0.06316393 & Model01\\\\\n",
       "\t  3 & rmse & standard & 19.64028 & 5 & 0.07025384 & Model02\\\\\n",
       "\t  5 & rmse & standard & 18.81895 & 5 & 0.06910413 & Model03\\\\\n",
       "\t  6 & rmse & standard & 18.61078 & 5 & 0.07478422 & Model04\\\\\n",
       "\t  7 & rmse & standard & 18.47275 & 5 & 0.07390812 & Model05\\\\\n",
       "\t  8 & rmse & standard & 18.35581 & 5 & 0.07234437 & Model06\\\\\n",
       "\t  9 & rmse & standard & 18.26115 & 5 & 0.06925482 & Model07\\\\\n",
       "\t 12 & rmse & standard & 18.05051 & 5 & 0.06516387 & Model08\\\\\n",
       "\t 13 & rmse & standard & 18.00890 & 5 & 0.06668086 & Model09\\\\\n",
       "\t 15 & rmse & standard & 17.94499 & 5 & 0.06068080 & Model10\\\\\n",
       "\\end{tabular}\n"
      ],
      "text/markdown": [
       "\n",
       "A tibble: 10 × 7\n",
       "\n",
       "| neighbors &lt;int&gt; | .metric &lt;chr&gt; | .estimator &lt;chr&gt; | mean &lt;dbl&gt; | n &lt;int&gt; | std_err &lt;dbl&gt; | .config &lt;chr&gt; |\n",
       "|---|---|---|---|---|---|---|\n",
       "|  2 | rmse | standard | 20.57846 | 5 | 0.06316393 | Model01 |\n",
       "|  3 | rmse | standard | 19.64028 | 5 | 0.07025384 | Model02 |\n",
       "|  5 | rmse | standard | 18.81895 | 5 | 0.06910413 | Model03 |\n",
       "|  6 | rmse | standard | 18.61078 | 5 | 0.07478422 | Model04 |\n",
       "|  7 | rmse | standard | 18.47275 | 5 | 0.07390812 | Model05 |\n",
       "|  8 | rmse | standard | 18.35581 | 5 | 0.07234437 | Model06 |\n",
       "|  9 | rmse | standard | 18.26115 | 5 | 0.06925482 | Model07 |\n",
       "| 12 | rmse | standard | 18.05051 | 5 | 0.06516387 | Model08 |\n",
       "| 13 | rmse | standard | 18.00890 | 5 | 0.06668086 | Model09 |\n",
       "| 15 | rmse | standard | 17.94499 | 5 | 0.06068080 | Model10 |\n",
       "\n"
      ],
      "text/plain": [
       "   neighbors .metric .estimator mean     n std_err    .config\n",
       "1   2        rmse    standard   20.57846 5 0.06316393 Model01\n",
       "2   3        rmse    standard   19.64028 5 0.07025384 Model02\n",
       "3   5        rmse    standard   18.81895 5 0.06910413 Model03\n",
       "4   6        rmse    standard   18.61078 5 0.07478422 Model04\n",
       "5   7        rmse    standard   18.47275 5 0.07390812 Model05\n",
       "6   8        rmse    standard   18.35581 5 0.07234437 Model06\n",
       "7   9        rmse    standard   18.26115 5 0.06925482 Model07\n",
       "8  12        rmse    standard   18.05051 5 0.06516387 Model08\n",
       "9  13        rmse    standard   18.00890 5 0.06668086 Model09\n",
       "10 15        rmse    standard   17.94499 5 0.06068080 Model10"
      ]
     },
     "metadata": {},
     "output_type": "display_data"
    }
   ],
   "source": [
    "spotify_rmse <- spotify_results %>% \n",
    "        filter(.metric == \"rmse\")\n",
    "spotify_rmse"
   ]
  },
  {
   "cell_type": "markdown",
   "metadata": {},
   "source": [
    "Plot accuracies vs. K"
   ]
  },
  {
   "cell_type": "code",
   "execution_count": 21,
   "metadata": {},
   "outputs": [
    {
     "data": {
      "image/png": "[encoded data removed]",
      "text/plain": [
       "plot without title"
      ]
     },
     "metadata": {
      "image/png": {
       "height": 600,
       "width": 900
      }
     },
     "output_type": "display_data"
    }
   ],
   "source": [
    "options(repr.plot.width= 15, repr.plot.height= 10)\n",
    "\n",
    "accuracies_plot = spotify_rmse %>% \n",
    "                ggplot(aes(x = neighbors, y = mean)) + \n",
    "                geom_point() +\n",
    "                geom_line() + \n",
    "                labs(x = \"Number of Neighbours\", y = \"RMSE\") +\n",
    "                ggtitle(\"Estimated RMSE for Tuned K Values\") + \n",
    "                theme(plot.title = element_text(hjust = 0.5), text = element_text(size = 20)) \n",
    "\n",
    "accuracies_plot"
   ]
  },
  {
   "cell_type": "markdown",
   "metadata": {},
   "source": [
    "**I didn't change anything past this point**"
   ]
  },
  {
   "cell_type": "markdown",
   "metadata": {},
   "source": [
    "Working with 9 neighbours"
   ]
  },
  {
   "cell_type": "code",
   "execution_count": 61,
   "metadata": {},
   "outputs": [
    {
     "data": {
      "text/html": [
       "<table>\n",
       "<caption>A tibble: 1 × 3</caption>\n",
       "<thead>\n",
       "\t<tr><th scope=col>.metric</th><th scope=col>.estimator</th><th scope=col>.estimate</th></tr>\n",
       "\t<tr><th scope=col>&lt;chr&gt;</th><th scope=col>&lt;chr&gt;</th><th scope=col>&lt;dbl&gt;</th></tr>\n",
       "</thead>\n",
       "<tbody>\n",
       "\t<tr><td>accuracy</td><td>binary</td><td>0.93976</td></tr>\n",
       "</tbody>\n",
       "</table>\n"
      ],
      "text/latex": [
       "A tibble: 1 × 3\n",
       "\\begin{tabular}{lll}\n",
       " .metric & .estimator & .estimate\\\\\n",
       " <chr> & <chr> & <dbl>\\\\\n",
       "\\hline\n",
       "\t accuracy & binary & 0.93976\\\\\n",
       "\\end{tabular}\n"
      ],
      "text/markdown": [
       "\n",
       "A tibble: 1 × 3\n",
       "\n",
       "| .metric &lt;chr&gt; | .estimator &lt;chr&gt; | .estimate &lt;dbl&gt; |\n",
       "|---|---|---|\n",
       "| accuracy | binary | 0.93976 |\n",
       "\n"
      ],
      "text/plain": [
       "  .metric  .estimator .estimate\n",
       "1 accuracy binary     0.93976  "
      ]
     },
     "metadata": {},
     "output_type": "display_data"
    }
   ],
   "source": [
    "knn_spec <- nearest_neighbor(weight_func = \"rectangular\", neighbors = 9) %>%\n",
    "            set_engine(\"kknn\") %>%\n",
    "            set_mode(\"classification\")\n",
    "\n",
    "knn_fit = workflow() %>%\n",
    "            add_recipe(spotify_recipe_3) %>%\n",
    "            add_model(knn_spec) %>%\n",
    "            fit(data = spotify_train)\n",
    "\n",
    "testing_predicted_9 = predict(knn_fit, spotify_test) %>%\n",
    "                bind_cols(spotify_test) %>%\n",
    "                metrics(truth = popular, estimate = .pred_class) %>%\n",
    "                filter(.metric == \"accuracy\") \n",
    "\n",
    "testing_predicted_9"
   ]
  },
  {
   "cell_type": "markdown",
   "metadata": {},
   "source": [
    "Working with 15 neighbours"
   ]
  },
  {
   "cell_type": "code",
   "execution_count": 62,
   "metadata": {},
   "outputs": [
    {
     "data": {
      "text/html": [
       "<table>\n",
       "<caption>A tibble: 1 × 3</caption>\n",
       "<thead>\n",
       "\t<tr><th scope=col>.metric</th><th scope=col>.estimator</th><th scope=col>.estimate</th></tr>\n",
       "\t<tr><th scope=col>&lt;chr&gt;</th><th scope=col>&lt;chr&gt;</th><th scope=col>&lt;dbl&gt;</th></tr>\n",
       "</thead>\n",
       "<tbody>\n",
       "\t<tr><td>accuracy</td><td>binary</td><td>0.93976</td></tr>\n",
       "</tbody>\n",
       "</table>\n"
      ],
      "text/latex": [
       "A tibble: 1 × 3\n",
       "\\begin{tabular}{lll}\n",
       " .metric & .estimator & .estimate\\\\\n",
       " <chr> & <chr> & <dbl>\\\\\n",
       "\\hline\n",
       "\t accuracy & binary & 0.93976\\\\\n",
       "\\end{tabular}\n"
      ],
      "text/markdown": [
       "\n",
       "A tibble: 1 × 3\n",
       "\n",
       "| .metric &lt;chr&gt; | .estimator &lt;chr&gt; | .estimate &lt;dbl&gt; |\n",
       "|---|---|---|\n",
       "| accuracy | binary | 0.93976 |\n",
       "\n"
      ],
      "text/plain": [
       "  .metric  .estimator .estimate\n",
       "1 accuracy binary     0.93976  "
      ]
     },
     "metadata": {},
     "output_type": "display_data"
    }
   ],
   "source": [
    "knn_spec_2 <- nearest_neighbor(weight_func = \"rectangular\", neighbors = 15) %>%\n",
    "            set_engine(\"kknn\") %>%\n",
    "            set_mode(\"classification\")\n",
    "\n",
    "knn_fit_2 = workflow() %>%\n",
    "            add_recipe(spotify_recipe_3) %>%\n",
    "            add_model(knn_spec_2) %>%\n",
    "            fit(data = spotify_train)\n",
    "\n",
    "testing_predicted_15 = predict(knn_fit, spotify_test) %>%\n",
    "                bind_cols(spotify_test) %>%\n",
    "                metrics(truth = popular, estimate = .pred_class) %>%\n",
    "                filter(.metric == \"accuracy\") \n",
    "\n",
    "testing_predicted_15"
   ]
  },
  {
   "cell_type": "code",
   "execution_count": 63,
   "metadata": {},
   "outputs": [
    {
     "data": {
      "text/html": [
       "<table>\n",
       "<caption>A tibble: 9 × 7</caption>\n",
       "<thead>\n",
       "\t<tr><th scope=col>neighbors</th><th scope=col>.metric</th><th scope=col>.estimator</th><th scope=col>mean</th><th scope=col>n</th><th scope=col>std_err</th><th scope=col>.config</th></tr>\n",
       "\t<tr><th scope=col>&lt;int&gt;</th><th scope=col>&lt;chr&gt;</th><th scope=col>&lt;chr&gt;</th><th scope=col>&lt;dbl&gt;</th><th scope=col>&lt;int&gt;</th><th scope=col>&lt;dbl&gt;</th><th scope=col>&lt;chr&gt;</th></tr>\n",
       "</thead>\n",
       "<tbody>\n",
       "\t<tr><td> 1</td><td>accuracy</td><td>binary</td><td>0.9190133</td><td>5</td><td>0.001065499</td><td>Model1</td></tr>\n",
       "\t<tr><td> 4</td><td>accuracy</td><td>binary</td><td>0.9249067</td><td>5</td><td>0.001654838</td><td>Model2</td></tr>\n",
       "\t<tr><td> 6</td><td>accuracy</td><td>binary</td><td>0.9342400</td><td>5</td><td>0.001535014</td><td>Model3</td></tr>\n",
       "\t<tr><td> 8</td><td>accuracy</td><td>binary</td><td>0.9374400</td><td>5</td><td>0.001895210</td><td>Model4</td></tr>\n",
       "\t<tr><td> 9</td><td>accuracy</td><td>binary</td><td>0.9395467</td><td>5</td><td>0.001728506</td><td>Model5</td></tr>\n",
       "\t<tr><td>10</td><td>accuracy</td><td>binary</td><td>0.9395467</td><td>5</td><td>0.001716120</td><td>Model6</td></tr>\n",
       "\t<tr><td>11</td><td>accuracy</td><td>binary</td><td>0.9400533</td><td>5</td><td>0.001855490</td><td>Model7</td></tr>\n",
       "\t<tr><td>13</td><td>accuracy</td><td>binary</td><td>0.9404800</td><td>5</td><td>0.001844921</td><td>Model8</td></tr>\n",
       "\t<tr><td>15</td><td>accuracy</td><td>binary</td><td>0.9404533</td><td>5</td><td>0.001809899</td><td>Model9</td></tr>\n",
       "</tbody>\n",
       "</table>\n"
      ],
      "text/latex": [
       "A tibble: 9 × 7\n",
       "\\begin{tabular}{lllllll}\n",
       " neighbors & .metric & .estimator & mean & n & std\\_err & .config\\\\\n",
       " <int> & <chr> & <chr> & <dbl> & <int> & <dbl> & <chr>\\\\\n",
       "\\hline\n",
       "\t  1 & accuracy & binary & 0.9190133 & 5 & 0.001065499 & Model1\\\\\n",
       "\t  4 & accuracy & binary & 0.9249067 & 5 & 0.001654838 & Model2\\\\\n",
       "\t  6 & accuracy & binary & 0.9342400 & 5 & 0.001535014 & Model3\\\\\n",
       "\t  8 & accuracy & binary & 0.9374400 & 5 & 0.001895210 & Model4\\\\\n",
       "\t  9 & accuracy & binary & 0.9395467 & 5 & 0.001728506 & Model5\\\\\n",
       "\t 10 & accuracy & binary & 0.9395467 & 5 & 0.001716120 & Model6\\\\\n",
       "\t 11 & accuracy & binary & 0.9400533 & 5 & 0.001855490 & Model7\\\\\n",
       "\t 13 & accuracy & binary & 0.9404800 & 5 & 0.001844921 & Model8\\\\\n",
       "\t 15 & accuracy & binary & 0.9404533 & 5 & 0.001809899 & Model9\\\\\n",
       "\\end{tabular}\n"
      ],
      "text/markdown": [
       "\n",
       "A tibble: 9 × 7\n",
       "\n",
       "| neighbors &lt;int&gt; | .metric &lt;chr&gt; | .estimator &lt;chr&gt; | mean &lt;dbl&gt; | n &lt;int&gt; | std_err &lt;dbl&gt; | .config &lt;chr&gt; |\n",
       "|---|---|---|---|---|---|---|\n",
       "|  1 | accuracy | binary | 0.9190133 | 5 | 0.001065499 | Model1 |\n",
       "|  4 | accuracy | binary | 0.9249067 | 5 | 0.001654838 | Model2 |\n",
       "|  6 | accuracy | binary | 0.9342400 | 5 | 0.001535014 | Model3 |\n",
       "|  8 | accuracy | binary | 0.9374400 | 5 | 0.001895210 | Model4 |\n",
       "|  9 | accuracy | binary | 0.9395467 | 5 | 0.001728506 | Model5 |\n",
       "| 10 | accuracy | binary | 0.9395467 | 5 | 0.001716120 | Model6 |\n",
       "| 11 | accuracy | binary | 0.9400533 | 5 | 0.001855490 | Model7 |\n",
       "| 13 | accuracy | binary | 0.9404800 | 5 | 0.001844921 | Model8 |\n",
       "| 15 | accuracy | binary | 0.9404533 | 5 | 0.001809899 | Model9 |\n",
       "\n"
      ],
      "text/plain": [
       "  neighbors .metric  .estimator mean      n std_err     .config\n",
       "1  1        accuracy binary     0.9190133 5 0.001065499 Model1 \n",
       "2  4        accuracy binary     0.9249067 5 0.001654838 Model2 \n",
       "3  6        accuracy binary     0.9342400 5 0.001535014 Model3 \n",
       "4  8        accuracy binary     0.9374400 5 0.001895210 Model4 \n",
       "5  9        accuracy binary     0.9395467 5 0.001728506 Model5 \n",
       "6 10        accuracy binary     0.9395467 5 0.001716120 Model6 \n",
       "7 11        accuracy binary     0.9400533 5 0.001855490 Model7 \n",
       "8 13        accuracy binary     0.9404800 5 0.001844921 Model8 \n",
       "9 15        accuracy binary     0.9404533 5 0.001809899 Model9 "
      ]
     },
     "metadata": {},
     "output_type": "display_data"
    }
   ],
   "source": [
    "accuracies"
   ]
  },
  {
   "cell_type": "code",
   "execution_count": null,
   "metadata": {},
   "outputs": [],
   "source": []
  }
 ],
 "metadata": {
  "kernelspec": {
   "display_name": "R",
   "language": "R",
   "name": "ir"
  },
  "language_info": {
   "codemirror_mode": "r",
   "file_extension": ".r",
   "mimetype": "text/x-r-source",
   "name": "R",
   "pygments_lexer": "r",
   "version": "4.0.0"
  }
 },
 "nbformat": 4,
 "nbformat_minor": 4
}
