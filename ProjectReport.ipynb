{
 "cells": [
  {
   "cell_type": "markdown",
   "metadata": {},
   "source": [
    "# DSCI 100 Final Report\n",
    "\n",
    "Team: Nicolas Mercuri, Tayler Whitehead\n",
    "\n",
    "# Part 1: Introduction"
   ]
  },
  {
   "cell_type": "markdown",
   "metadata": {},
   "source": [
    "Music plays a huge role in our experience of the world around us. Daily tasks like walking through campus, working on homework assignments, or simply cooking dinner after a long day are a lot more enjoyable while listening to your favourite playlist.\n",
    "\n",
    "For our group project this semester, we decided to work with a dataset called [Spotify Tracks DB](https://tinyurl.com/3dnwcpe2). This dataset was downloaded from Kaggle.com and was parsed using Spotify's official API. The dataset has over 110,000 unique observations (tracks) and features 18 relevant variables, each describing a specific qualitative or quantitative characteristic of a track.\n",
    "\n",
    "For our predictive question, we are asking if specific quantitative characteristics of a track (danceability and energy) can help predict a new song's popularity on the music streaming service, Spotify. To aid us in our analysis, we'll be building and testing a knn regression model tuned to the optimal number of neighbours.\n",
    "\n",
    "We initially chose to use danceability as our predictor for a song's popularity because of Interiano et al.'s (2018) study, which indicates that songs that are more 'danceable' tend to be more successful in term of ranking high in popularity. Following some of our exploratory data analysis we found that pairing danceability with energy resulted in a lower RMSE than examining danceability on its own, and therefore we decided to use both variables.\n",
    "\n",
    "While we acknowledge that there is also an array of qualitative factors that contribute to a song's popularity such as culture, seasonality, and personal preference, and therefore must not be dismissed, these qualitative factors affect a song's popularity following its release (Lee & Lee, 2018). Our analysis, then, offers the opportunity to explore how quantitative variables can potentially play a role in predicting the popularity of a song before its initial release. "
   ]
  },
  {
   "cell_type": "markdown",
   "metadata": {},
   "source": [
    "# Part 2: Methods and Results"
   ]
  },
  {
   "cell_type": "markdown",
   "metadata": {},
   "source": [
    "## Reading in Raw Data"
   ]
  },
  {
   "cell_type": "markdown",
   "metadata": {},
   "source": [
    "First, we load any necessary packages required for our data cleaning and wrangling, initial anlyses, and visualizations."
   ]
  },
  {
   "cell_type": "code",
   "execution_count": 6,
   "metadata": {},
   "outputs": [
    {
     "name": "stderr",
     "output_type": "stream",
     "text": [
      "Updating HTML index of packages in '.Library'\n",
      "\n",
      "Making 'packages.html' ...\n",
      " done\n",
      "\n"
     ]
    }
   ],
   "source": [
    "library(tidyverse)\n",
    "library(repr)\n",
    "library(tidymodels)\n",
    "library(cowplot)\n",
    "library(RColorBrewer)\n",
    "install.packages(\"plotly\")\n",
    "\n",
    "options(repr.plot.width= 30, repr.plot.height= 10)"
   ]
  },
  {
   "cell_type": "markdown",
   "metadata": {},
   "source": [
    "We then read in our chosen dataset from our GitHub repository. In order to ensure that our analyses are reproducible, we used the set.seed function (set to an arbritrary number) to generate the same random selection of data throughout our analysis to maintain consistent results."
   ]
  },
  {
   "cell_type": "code",
   "execution_count": 7,
   "metadata": {},
   "outputs": [
    {
     "name": "stderr",
     "output_type": "stream",
     "text": [
      "Parsed with column specification:\n",
      "cols(\n",
      "  genre = \u001b[31mcol_character()\u001b[39m,\n",
      "  artist_name = \u001b[31mcol_character()\u001b[39m,\n",
      "  track_name = \u001b[31mcol_character()\u001b[39m,\n",
      "  track_id = \u001b[31mcol_character()\u001b[39m,\n",
      "  popularity = \u001b[32mcol_double()\u001b[39m,\n",
      "  acousticness = \u001b[32mcol_double()\u001b[39m,\n",
      "  danceability = \u001b[32mcol_double()\u001b[39m,\n",
      "  duration_ms = \u001b[32mcol_double()\u001b[39m,\n",
      "  energy = \u001b[32mcol_double()\u001b[39m,\n",
      "  instrumentalness = \u001b[32mcol_double()\u001b[39m,\n",
      "  key = \u001b[31mcol_character()\u001b[39m,\n",
      "  liveness = \u001b[32mcol_double()\u001b[39m,\n",
      "  loudness = \u001b[32mcol_double()\u001b[39m,\n",
      "  mode = \u001b[31mcol_character()\u001b[39m,\n",
      "  speechiness = \u001b[32mcol_double()\u001b[39m,\n",
      "  tempo = \u001b[32mcol_double()\u001b[39m,\n",
      "  time_signature = \u001b[31mcol_character()\u001b[39m,\n",
      "  valence = \u001b[32mcol_double()\u001b[39m\n",
      ")\n",
      "\n",
      "Warning message:\n",
      "“1 parsing failure.\n",
      "   row col   expected     actual                                                                                             file\n",
      "115177  -- 18 columns 15 columns 'https://raw.githubusercontent.com/chrislukita/DSCI100-Group-Final/main/data/SpotifyDataset.csv'\n",
      "”\n"
     ]
    }
   ],
   "source": [
    "set.seed(2022)\n",
    "\n",
    "spotify_raw_data = read_csv(\"https://raw.githubusercontent.com/chrislukita/DSCI100-Group-Final/main/data/SpotifyDataset.csv\")"
   ]
  },
  {
   "cell_type": "markdown",
   "metadata": {},
   "source": [
    "## Slicing Data"
   ]
  },
  {
   "cell_type": "markdown",
   "metadata": {},
   "source": [
    "As our dateset is quite sizeable, we decided to cut our data in half to 50,000 observations. This will enable our analysis to minimize data processing time while still maintaining a considerable amount of information for training and testing our regression model."
   ]
  },
  {
   "cell_type": "code",
   "execution_count": 8,
   "metadata": {},
   "outputs": [],
   "source": [
    "set.seed(2022)\n",
    "spotify_sliced = slice_sample(spotify_raw_data, n = 50000)"
   ]
  },
  {
   "cell_type": "markdown",
   "metadata": {},
   "source": [
    "After slicing our data set, we perform some data wrangling to select only our desired columns (popularity, danceability, and energy), as well as omitting any \"NA\" values that may interfere with our data analysis. These steps help clean up the data by removing any values that are unnecessary for our particular analysis. \n",
    "\n",
    "We also created popularity groupings which represent a given song's popularity. These groups split all songs into 4 categories: 0 <= 25, 26 <= 50, 51 <= 75, 76 <= 100. Creating these buckets will help us to create visualizations using both predictor variables in order to see if any trends are present."
   ]
  },
  {
   "cell_type": "code",
   "execution_count": 9,
   "metadata": {},
   "outputs": [],
   "source": [
    "spotify_wrangled = spotify_sliced %>%\n",
    "                    select(popularity, danceability, energy) %>%\n",
    "                    na.omit(spotify_wrangled) %>%\n",
    "                    mutate(popularity_group = case_when(popularity >= 0  & popularity <= 25 ~ '0 <= 25',\n",
    "                                                        popularity >= 26  & popularity <= 50 ~ '26 <= 50',\n",
    "                                                        popularity >= 51  & popularity <= 75 ~ '51 <= 75',\n",
    "                                                        popularity >= 76  & popularity <= 100 ~ '76 <= 100'))"
   ]
  },
  {
   "cell_type": "markdown",
   "metadata": {},
   "source": [
    "We also create a dataframe and visualization that represents the count of songs within each popularity band."
   ]
  },
  {
   "cell_type": "code",
   "execution_count": 10,
   "metadata": {},
   "outputs": [
    {
     "name": "stderr",
     "output_type": "stream",
     "text": [
      "`summarise()` ungrouping output (override with `.groups` argument)\n",
      "\n",
      "Warning message in get0(oNam, envir = ns):\n",
      "“internal error -3 in R_decompress1”\n",
      "ERROR while rich displaying an object: Error in get0(oNam, envir = ns): lazy-load database '/opt/conda/lib/R/library/RColorBrewer/R/RColorBrewer.rdb' is corrupt\n",
      "\n",
      "Traceback:\n",
      "1. FUN(X[[i]], ...)\n",
      "2. tryCatch(withCallingHandlers({\n",
      " .     if (!mime %in% names(repr::mime2repr)) \n",
      " .         stop(\"No repr_* for mimetype \", mime, \" in repr::mime2repr\")\n",
      " .     rpr <- repr::mime2repr[[mime]](obj)\n",
      " .     if (is.null(rpr)) \n",
      " .         return(NULL)\n",
      " .     prepare_content(is.raw(rpr), rpr)\n",
      " . }, error = error_handler), error = outer_handler)\n",
      "3. tryCatchList(expr, classes, parentenv, handlers)\n",
      "4. tryCatchOne(expr, names, parentenv, handlers[[1L]])\n",
      "5. doTryCatch(return(expr), name, parentenv, handler)\n",
      "6. withCallingHandlers({\n",
      " .     if (!mime %in% names(repr::mime2repr)) \n",
      " .         stop(\"No repr_* for mimetype \", mime, \" in repr::mime2repr\")\n",
      " .     rpr <- repr::mime2repr[[mime]](obj)\n",
      " .     if (is.null(rpr)) \n",
      " .         return(NULL)\n",
      " .     prepare_content(is.raw(rpr), rpr)\n",
      " . }, error = error_handler)\n",
      "7. repr::mime2repr[[mime]](obj)\n",
      "8. repr_text.default(obj)\n",
      "9. paste(capture.output(print(obj)), collapse = \"\\n\")\n",
      "10. capture.output(print(obj))\n",
      "11. evalVis(expr)\n",
      "12. withVisible(eval(expr, pf))\n",
      "13. eval(expr, pf)\n",
      "14. eval(expr, pf)\n",
      "15. print(obj)\n",
      "16. print.ggplot(obj)\n",
      "17. ggplot_build(x)\n",
      "18. ggplot_build.ggplot(x)\n",
      "19. lapply(data, scales_map_df, scales = npscales)\n",
      "20. FUN(X[[i]], ...)\n",
      "21. unlist(lapply(scales$scales, function(scale) scale$map_df(df = df)), \n",
      "  .     recursive = FALSE)\n",
      "22. lapply(scales$scales, function(scale) scale$map_df(df = df))\n",
      "23. FUN(X[[i]], ...)\n",
      "24. scale$map_df(df = df)\n",
      "25. f(..., self = self)\n",
      "26. lapply(aesthetics, function(j) self$map(df[[j]]))\n",
      "27. FUN(X[[i]], ...)\n",
      "28. self$map(df[[j]])\n",
      "29. f(..., self = self)\n",
      "30. self$palette(n)\n",
      "31. f(...)\n",
      "32. RColorBrewer::brewer.pal\n",
      "33. getExportedValue(pkg, name)\n",
      "34. get0(oNam, envir = ns)\n"
     ]
    },
    {
     "data": {
      "image/png": "[encoded data removed]",
      "text/plain": [
       "plot without title"
      ]
     },
     "metadata": {
      "image/png": {
       "height": 600,
       "width": 1200
      }
     },
     "output_type": "display_data"
    }
   ],
   "source": [
    "options(repr.plot.width= 20, repr.plot.height= 10)\n",
    "\n",
    "spotify_grouped_by_popularity = spotify_wrangled %>%\n",
    "                        group_by(popularity_group) %>%\n",
    "                        summarize(count = n())\n",
    "\n",
    "spotify_count_plot = spotify_grouped_by_popularity %>%\n",
    "                    ggplot(aes(x = popularity_group, y = count, fill = popularity_group)) + \n",
    "                    geom_bar(alpha = 0.7, stat = \"identity\") + \n",
    "                    labs(x = \"Popularity Grouping\", y = \"Count of Songs\", fill = \"Popularity Group\") +\n",
    "                    ggtitle(\"Count of Songs in Each Popularity Band\") +\n",
    "                    theme(plot.title = element_text(hjust = 0.5)) +\n",
    "                    scale_fill_brewer(palette = \"Set1\", direction=-1)\n",
    "\n",
    "spotify_count_plot"
   ]
  },
  {
   "cell_type": "markdown",
   "metadata": {},
   "source": [
    "*Figure 1* : Visualizing counts of songs within each popularity group"
   ]
  },
  {
   "cell_type": "markdown",
   "metadata": {},
   "source": [
    "From here, we slice a small sample (n = 1000) of the entire dataset and create a scatter plot to determine if there are any trends we can extrapolate from the plot."
   ]
  },
  {
   "cell_type": "code",
   "execution_count": 11,
   "metadata": {},
   "outputs": [
    {
     "name": "stderr",
     "output_type": "stream",
     "text": [
      "Warning message in get0(oNam, envir = ns):\n",
      "“restarting interrupted promise evaluation”\n",
      "Warning message in get0(oNam, envir = ns):\n",
      "“internal error -3 in R_decompress1”\n",
      "ERROR while rich displaying an object: Error in get0(oNam, envir = ns): lazy-load database '/opt/conda/lib/R/library/RColorBrewer/R/RColorBrewer.rdb' is corrupt\n",
      "\n",
      "Traceback:\n",
      "1. FUN(X[[i]], ...)\n",
      "2. tryCatch(withCallingHandlers({\n",
      " .     if (!mime %in% names(repr::mime2repr)) \n",
      " .         stop(\"No repr_* for mimetype \", mime, \" in repr::mime2repr\")\n",
      " .     rpr <- repr::mime2repr[[mime]](obj)\n",
      " .     if (is.null(rpr)) \n",
      " .         return(NULL)\n",
      " .     prepare_content(is.raw(rpr), rpr)\n",
      " . }, error = error_handler), error = outer_handler)\n",
      "3. tryCatchList(expr, classes, parentenv, handlers)\n",
      "4. tryCatchOne(expr, names, parentenv, handlers[[1L]])\n",
      "5. doTryCatch(return(expr), name, parentenv, handler)\n",
      "6. withCallingHandlers({\n",
      " .     if (!mime %in% names(repr::mime2repr)) \n",
      " .         stop(\"No repr_* for mimetype \", mime, \" in repr::mime2repr\")\n",
      " .     rpr <- repr::mime2repr[[mime]](obj)\n",
      " .     if (is.null(rpr)) \n",
      " .         return(NULL)\n",
      " .     prepare_content(is.raw(rpr), rpr)\n",
      " . }, error = error_handler)\n",
      "7. repr::mime2repr[[mime]](obj)\n",
      "8. repr_text.default(obj)\n",
      "9. paste(capture.output(print(obj)), collapse = \"\\n\")\n",
      "10. capture.output(print(obj))\n",
      "11. evalVis(expr)\n",
      "12. withVisible(eval(expr, pf))\n",
      "13. eval(expr, pf)\n",
      "14. eval(expr, pf)\n",
      "15. print(obj)\n",
      "16. print.ggplot(obj)\n",
      "17. ggplot_build(x)\n",
      "18. ggplot_build.ggplot(x)\n",
      "19. lapply(data, scales_map_df, scales = npscales)\n",
      "20. FUN(X[[i]], ...)\n",
      "21. unlist(lapply(scales$scales, function(scale) scale$map_df(df = df)), \n",
      "  .     recursive = FALSE)\n",
      "22. lapply(scales$scales, function(scale) scale$map_df(df = df))\n",
      "23. FUN(X[[i]], ...)\n",
      "24. scale$map_df(df = df)\n",
      "25. f(..., self = self)\n",
      "26. lapply(aesthetics, function(j) self$map(df[[j]]))\n",
      "27. FUN(X[[i]], ...)\n",
      "28. self$map(df[[j]])\n",
      "29. f(..., self = self)\n",
      "30. self$palette(n)\n",
      "31. f(...)\n",
      "32. RColorBrewer::brewer.pal\n",
      "33. getExportedValue(pkg, name)\n",
      "34. get0(oNam, envir = ns)\n"
     ]
    },
    {
     "data": {
      "image/png": "[encoded data removed]",
      "text/plain": [
       "plot without title"
      ]
     },
     "metadata": {
      "image/png": {
       "height": 480,
       "width": 600
      }
     },
     "output_type": "display_data"
    }
   ],
   "source": [
    "set.seed(2022)\n",
    "options(repr.plot.width= 10, repr.plot.height= 8)\n",
    "\n",
    "spotify_really_small = slice_sample(spotify_wrangled, n = 1000)\n",
    "\n",
    "danceability_vs_popularity = spotify_really_small %>%\n",
    "                            ggplot(aes(x = danceability, y = energy, color = popularity_group)) + \n",
    "                            geom_point(alpha = 0.4) + \n",
    "                            labs(y = \"Energy Level of Song\", x = \"Danceability Level of Song\", color = \"Popularity Band\") +\n",
    "                            ggtitle(\"Danceability and Energy Comparison\") +\n",
    "                            theme(plot.title = element_text(hjust = 0.5)) +\n",
    "                            scale_color_brewer(palette = \"Set1\", direction=-1)\n",
    "                                   \n",
    "danceability_vs_popularity                         "
   ]
  },
  {
   "cell_type": "markdown",
   "metadata": {},
   "source": [
    "*Figure 2* : Visualizing patterns between predictors and the response variable"
   ]
  },
  {
   "cell_type": "markdown",
   "metadata": {},
   "source": [
    "From the visualization, we can see that the most unpopular tracks (0 <= 25) tend to cluster in the bottom left quadrant of the graph where danceability and energy levels < 0.50. However, after that it is difficult to make any meaningful conclusions."
   ]
  },
  {
   "cell_type": "markdown",
   "metadata": {},
   "source": [
    "### Creating Training Data\n",
    "\n",
    "Now that we have our relevant popularity buckets, we can create our training dataset which comprises 75% of the total wrangled Spotify dataset. The remaining 25% will be used as our testing dataset."
   ]
  },
  {
   "cell_type": "code",
   "execution_count": 12,
   "metadata": {},
   "outputs": [],
   "source": [
    "spotify_split = initial_split(spotify_wrangled, prop = 0.75, strata = popularity)\n",
    "\n",
    "spotify_train = training(spotify_split)\n",
    "spotify_test = testing(spotify_split)"
   ]
  },
  {
   "cell_type": "markdown",
   "metadata": {},
   "source": [
    "### Summarizing the Data\n",
    "\n",
    "Here we provide the summary statistics for our selected variables. It should be noted that popularity is measured on a scale from 0-100, and danceability and energy have been standardized to a scale of 0-1. "
   ]
  },
  {
   "cell_type": "code",
   "execution_count": 13,
   "metadata": {},
   "outputs": [
    {
     "data": {
      "text/plain": [
       "   popularity     danceability        energy         popularity_group  \n",
       " Min.   :  0.0   Min.   :0.0592   Min.   :0.000243   Length:37501      \n",
       " 1st Qu.: 30.0   1st Qu.:0.4530   1st Qu.:0.408000   Class :character  \n",
       " Median : 47.0   Median :0.5780   Median :0.617000   Mode  :character  \n",
       " Mean   : 42.8   Mean   :0.5670   Mean   :0.586826                     \n",
       " 3rd Qu.: 57.0   3rd Qu.:0.6950   3rd Qu.:0.797000                     \n",
       " Max.   :100.0   Max.   :0.9890   Max.   :0.999000                     "
      ]
     },
     "metadata": {},
     "output_type": "display_data"
    }
   ],
   "source": [
    "summary(spotify_train)"
   ]
  },
  {
   "cell_type": "markdown",
   "metadata": {},
   "source": [
    "### Visualizing the Data\n",
    "\n",
    "To visualize our data, we will create histograms to show the distribution of values of our main predictive variables: danceability and energy."
   ]
  },
  {
   "cell_type": "code",
   "execution_count": 22,
   "metadata": {},
   "outputs": [
    {
     "name": "stderr",
     "output_type": "stream",
     "text": [
      "`stat_bin()` using `bins = 30`. Pick better value with `binwidth`.\n",
      "\n",
      "Warning message in get0(oNam, envir = ns):\n",
      "“restarting interrupted promise evaluation”\n",
      "Warning message in get0(oNam, envir = ns):\n",
      "“internal error -3 in R_decompress1”\n"
     ]
    },
    {
     "ename": "ERROR",
     "evalue": "Error in get0(oNam, envir = ns): lazy-load database '/opt/conda/lib/R/library/RColorBrewer/R/RColorBrewer.rdb' is corrupt\n",
     "output_type": "error",
     "traceback": [
      "Error in get0(oNam, envir = ns): lazy-load database '/opt/conda/lib/R/library/RColorBrewer/R/RColorBrewer.rdb' is corrupt\nTraceback:\n",
      "1. plot_grid(danceability_histogram, energy_histogram, ncol = 2)",
      "2. align_plots(plotlist = plots, align = align, axis = axis, greedy = greedy)",
      "3. lapply(plots, function(x) {\n .     if (!is.null(x)) \n .         as_gtable(x)\n .     else NULL\n . })",
      "4. FUN(X[[i]], ...)",
      "5. as_gtable(x)",
      "6. as_gtable.default(x)",
      "7. as_grob(plot)",
      "8. as_grob.ggplot(plot)",
      "9. ggplot2::ggplotGrob(plot)",
      "10. ggplot_gtable(ggplot_build(x))",
      "11. ggplot_build(x)",
      "12. ggplot_build.ggplot(x)",
      "13. lapply(data, scales_map_df, scales = npscales)",
      "14. FUN(X[[i]], ...)",
      "15. unlist(lapply(scales$scales, function(scale) scale$map_df(df = df)), \n  .     recursive = FALSE)",
      "16. lapply(scales$scales, function(scale) scale$map_df(df = df))",
      "17. FUN(X[[i]], ...)",
      "18. scale$map_df(df = df)",
      "19. f(..., self = self)",
      "20. lapply(aesthetics, function(j) self$map(df[[j]]))",
      "21. FUN(X[[i]], ...)",
      "22. self$map(df[[j]])",
      "23. f(..., self = self)",
      "24. self$palette(n)",
      "25. f(...)",
      "26. RColorBrewer::brewer.pal",
      "27. getExportedValue(pkg, name)",
      "28. get0(oNam, envir = ns)"
     ]
    }
   ],
   "source": [
    "options(repr.plot.width= 60, repr.plot.height= 15)\n",
    "\n",
    "danceability_histogram = spotify_train %>%\n",
    "                        ggplot(aes(x = danceability, fill = popularity_group)) +\n",
    "                        geom_histogram(alpha = 0.7, position = \"identity\") +\n",
    "                        labs(x = \"Distribution of Danceability Values (Standardized)\", y = \"Count of Values\"\n",
    "                            , fill = \"Popularity Band\") + \n",
    "                        ggtitle(\"Danceability Histogram\") +\n",
    "                        theme(text = element_text(size = 20), plot.title = element_text(hjust = 0.5)) + \n",
    "                        scale_fill_brewer(palette = \"Set1\", direction=-1)\n",
    "                        \n",
    "energy_histogram = spotify_train %>%\n",
    "                        ggplot(aes(x = energy, fill = popularity_group)) +\n",
    "                        geom_histogram(alpha = 0.7, position = \"identity\") +\n",
    "                        labs(x = \"Distribution of Energy Values (Standardized)\", y = \"Count of Values\"\n",
    "                             , fill = \"Popularity Band\") + \n",
    "                        ggtitle(\"Energy Histogram\") +\n",
    "                        theme(text = element_text(size = 20), plot.title = element_text(hjust = 0.5)) + \n",
    "                        scale_fill_brewer(palette = \"Set1\", direction=-1)\n",
    "\n",
    "plot_grid(danceability_histogram, energy_histogram, ncol = 2)"
   ]
  },
  {
   "cell_type": "markdown",
   "metadata": {},
   "source": [
    "*Figure 3* : Histograms showing how songs within each popularity group are influenced by changes in the predictive variable"
   ]
  },
  {
   "cell_type": "markdown",
   "metadata": {},
   "source": [
    "We can see that the danceability values follow a normal distribution, while the energy distribution is skewed to the left. From the visualizations, we can see that as danceability and energy levels increase, the proportion of unpopular songs (0 <= 25 on popularity) tend to decrease, while the other popularity bands tend to increase."
   ]
  },
  {
   "cell_type": "markdown",
   "metadata": {},
   "source": [
    "**How will we coduct our data analysis?**\n",
    "\n",
    "Our data analysis will adhere to the following structure and format:\n",
    "- Step #1 - Split the data into a training and testing data, respectively. We'll be careful to use relevant proportions of the total data for each set.\n",
    "- Step #2 - Develop our KNN recipe.\n",
    "- Step #3 - Build our nearest neighbors model specification, ensuring that the neighbors parameter is set to tune().\n",
    "- Step #4 - Utilize the vfold_cv function to split our training data for cross-validation.\n",
    "- Step #5 - Create workflow using the recipe and model developed in steps 3 and 4.\n",
    "- Step #6 - Choose an optimal K value from this workflow analysis.\n",
    "- Step #7 - Develop a new model specification using the optimal value for K, and then retrain the regression model using fit.\n",
    "- Step #8 - Evaluate accuracy using the testing data.\n",
    "- Step #9 - Develop visualizations that summarize our analysis, and draft any documentation required to aid understanding of our processes."
   ]
  },
  {
   "cell_type": "markdown",
   "metadata": {},
   "source": [
    "### Data Analysis"
   ]
  },
  {
   "cell_type": "markdown",
   "metadata": {},
   "source": [
    "**Tuning model to find best K value using two predictors**"
   ]
  },
  {
   "cell_type": "markdown",
   "metadata": {},
   "source": [
    "Here we create our model's recipe using the training data set, where we inidicate the response variable and the desired predictors. In the recipe we also scale and center the data so that the values are being compared using relative scales and metrics to avoid  one or more variables exhibiting disproportionate influence on the model's outputs."
   ]
  },
  {
   "cell_type": "code",
   "execution_count": 23,
   "metadata": {},
   "outputs": [
    {
     "data": {
      "text/plain": [
       "Data Recipe\n",
       "\n",
       "Inputs:\n",
       "\n",
       "      role #variables\n",
       "   outcome          1\n",
       " predictor          2\n",
       "\n",
       "Operations:\n",
       "\n",
       "Scaling for all_predictors()\n",
       "Centering for all_predictors()"
      ]
     },
     "metadata": {},
     "output_type": "display_data"
    }
   ],
   "source": [
    "spotify_recipe <- recipe(popularity ~ danceability + energy, data = spotify_train) %>%\n",
    "                        step_scale(all_predictors()) %>%\n",
    "                        step_center(all_predictors())\n",
    "\n",
    "spotify_recipe"
   ]
  },
  {
   "cell_type": "markdown",
   "metadata": {},
   "source": [
    "Next, we create the model specifications using the knn algorithm for regression which predicts the response variable's value based on the values of neighbouring points. Since, we want to find the optimal value of neighbours that reduce's our model's RMSE, we set neighbours to \"tune()\" while we continue to train the model."
   ]
  },
  {
   "cell_type": "code",
   "execution_count": 24,
   "metadata": {},
   "outputs": [],
   "source": [
    "knn_tune = nearest_neighbor(weight_func = \"rectangular\", neighbors = tune()) %>%\n",
    "            set_engine(\"kknn\") %>%\n",
    "            set_mode(\"regression\")"
   ]
  },
  {
   "cell_type": "markdown",
   "metadata": {},
   "source": [
    "From here, we create a 5-fold cross-validation object to test the performance of various k values ranging from 1-20 by 3. Subsequently, we put the recipe and model specification together in a workflow and filter the RMSE values of each k value to create a plot of RMSE vs. number of neighbours."
   ]
  },
  {
   "cell_type": "code",
   "execution_count": 25,
   "metadata": {},
   "outputs": [],
   "source": [
    "spotify_vfold = vfold_cv(spotify_train, v = 5, strata = popularity)\n",
    "\n",
    "gridvals = tibble(neighbors = seq(from = 1, to = 20, by = 3))"
   ]
  },
  {
   "cell_type": "code",
   "execution_count": 26,
   "metadata": {},
   "outputs": [],
   "source": [
    "spotify_results <- workflow() %>%\n",
    "                      add_recipe(spotify_recipe) %>%\n",
    "                      add_model(knn_tune) %>%\n",
    "                      tune_grid(resamples = spotify_vfold, grid = gridvals) %>%\n",
    "                      collect_metrics() %>%\n",
    "                    filter(.metric == \"rmse\")"
   ]
  },
  {
   "cell_type": "code",
   "execution_count": 27,
   "metadata": {},
   "outputs": [
    {
     "data": {
      "image/png": "[encoded data removed]",
      "text/plain": [
       "plot without title"
      ]
     },
     "metadata": {
      "image/png": {
       "height": 600,
       "width": 900
      }
     },
     "output_type": "display_data"
    }
   ],
   "source": [
    "options(repr.plot.width= 15, repr.plot.height= 10)\n",
    "\n",
    "spotify_results_plot = spotify_results %>% \n",
    "                ggplot(aes(x = neighbors, y = mean)) +\n",
    "                geom_point() +\n",
    "                geom_line() +\n",
    "                labs(x = \"Neighbours\", y = \"RMSE\") +\n",
    "                ggtitle(\"RMSE Values for Each Neighbour\") +\n",
    "                theme(plot.title = element_text(hjust = 0.5))\n",
    "\n",
    "spotify_results_plot"
   ]
  },
  {
   "cell_type": "markdown",
   "metadata": {},
   "source": [
    "*Figure 4* : Visualizing RMSE in relation to number of neighbours"
   ]
  },
  {
   "cell_type": "markdown",
   "metadata": {},
   "source": [
    "We can see from the plot that the RMSE decreases as the number of neighbours increases. Therefore, we filter RMSE for the smallest value and select its associated k-value to re-train our model."
   ]
  },
  {
   "cell_type": "code",
   "execution_count": 28,
   "metadata": {},
   "outputs": [
    {
     "data": {
      "text/html": [
       "<table>\n",
       "<caption>A tibble: 1 × 7</caption>\n",
       "<thead>\n",
       "\t<tr><th scope=col>neighbors</th><th scope=col>.metric</th><th scope=col>.estimator</th><th scope=col>mean</th><th scope=col>n</th><th scope=col>std_err</th><th scope=col>.config</th></tr>\n",
       "\t<tr><th scope=col>&lt;dbl&gt;</th><th scope=col>&lt;chr&gt;</th><th scope=col>&lt;chr&gt;</th><th scope=col>&lt;dbl&gt;</th><th scope=col>&lt;int&gt;</th><th scope=col>&lt;dbl&gt;</th><th scope=col>&lt;chr&gt;</th></tr>\n",
       "</thead>\n",
       "<tbody>\n",
       "\t<tr><td>19</td><td>rmse</td><td>standard</td><td>17.78979</td><td>5</td><td>0.0482592</td><td>Model7</td></tr>\n",
       "</tbody>\n",
       "</table>\n"
      ],
      "text/latex": [
       "A tibble: 1 × 7\n",
       "\\begin{tabular}{lllllll}\n",
       " neighbors & .metric & .estimator & mean & n & std\\_err & .config\\\\\n",
       " <dbl> & <chr> & <chr> & <dbl> & <int> & <dbl> & <chr>\\\\\n",
       "\\hline\n",
       "\t 19 & rmse & standard & 17.78979 & 5 & 0.0482592 & Model7\\\\\n",
       "\\end{tabular}\n"
      ],
      "text/markdown": [
       "\n",
       "A tibble: 1 × 7\n",
       "\n",
       "| neighbors &lt;dbl&gt; | .metric &lt;chr&gt; | .estimator &lt;chr&gt; | mean &lt;dbl&gt; | n &lt;int&gt; | std_err &lt;dbl&gt; | .config &lt;chr&gt; |\n",
       "|---|---|---|---|---|---|---|\n",
       "| 19 | rmse | standard | 17.78979 | 5 | 0.0482592 | Model7 |\n",
       "\n"
      ],
      "text/plain": [
       "  neighbors .metric .estimator mean     n std_err   .config\n",
       "1 19        rmse    standard   17.78979 5 0.0482592 Model7 "
      ]
     },
     "metadata": {},
     "output_type": "display_data"
    }
   ],
   "source": [
    "spotify_rmse <- spotify_results %>% \n",
    "        filter(.metric == \"rmse\") %>%\n",
    "        filter(mean == min(mean))\n",
    "\n",
    "spotify_rmse"
   ]
  },
  {
   "cell_type": "markdown",
   "metadata": {},
   "source": [
    "The plot in figure 4 suggests that our RMSE value is minimized when K = 19. This is also confirmed when calculating the min RMSE value in spotify_rmse.\n",
    "\n",
    "Based on this information, we can be reasonably confident that using 19 neighbours for our knn regression analysis will result in the most precise predictions."
   ]
  },
  {
   "cell_type": "markdown",
   "metadata": {},
   "source": [
    "We then re-train our knn regression model using 19 neighbours and make predictions using the testing set we created earlier."
   ]
  },
  {
   "cell_type": "code",
   "execution_count": 29,
   "metadata": {},
   "outputs": [
    {
     "data": {
      "text/html": [
       "<table>\n",
       "<caption>A tibble: 1 × 3</caption>\n",
       "<thead>\n",
       "\t<tr><th scope=col>.metric</th><th scope=col>.estimator</th><th scope=col>.estimate</th></tr>\n",
       "\t<tr><th scope=col>&lt;chr&gt;</th><th scope=col>&lt;chr&gt;</th><th scope=col>&lt;dbl&gt;</th></tr>\n",
       "</thead>\n",
       "<tbody>\n",
       "\t<tr><td>rmse</td><td>standard</td><td>17.85405</td></tr>\n",
       "</tbody>\n",
       "</table>\n"
      ],
      "text/latex": [
       "A tibble: 1 × 3\n",
       "\\begin{tabular}{lll}\n",
       " .metric & .estimator & .estimate\\\\\n",
       " <chr> & <chr> & <dbl>\\\\\n",
       "\\hline\n",
       "\t rmse & standard & 17.85405\\\\\n",
       "\\end{tabular}\n"
      ],
      "text/markdown": [
       "\n",
       "A tibble: 1 × 3\n",
       "\n",
       "| .metric &lt;chr&gt; | .estimator &lt;chr&gt; | .estimate &lt;dbl&gt; |\n",
       "|---|---|---|\n",
       "| rmse | standard | 17.85405 |\n",
       "\n"
      ],
      "text/plain": [
       "  .metric .estimator .estimate\n",
       "1 rmse    standard   17.85405 "
      ]
     },
     "metadata": {},
     "output_type": "display_data"
    }
   ],
   "source": [
    "spotify_spec <- nearest_neighbor(weight_func = \"rectangular\", neighbors = 19) %>%\n",
    "            set_engine(\"kknn\") %>%\n",
    "            set_mode(\"regression\")\n",
    "\n",
    "spotify_fit = workflow() %>%\n",
    "            add_recipe(spotify_recipe) %>%\n",
    "            add_model(spotify_spec) %>%\n",
    "            fit(data = spotify_train)\n",
    "\n",
    "spotify_summary = predict(spotify_fit, spotify_test) %>%\n",
    "                bind_cols(spotify_test) %>%\n",
    "                metrics(truth = popularity, estimate = .pred) %>%\n",
    "                filter(.metric == \"rmse\") \n",
    "spotify_summary"
   ]
  },
  {
   "cell_type": "markdown",
   "metadata": {},
   "source": [
    "The resulting RMSPE for the testing set is roughly 17.85 which means that our model should predict a song's popularity rating with the possibility of its actual rating being +/- 17.85 units on the 0-100 popularity scale."
   ]
  },
  {
   "cell_type": "code",
   "execution_count": 30,
   "metadata": {},
   "outputs": [
    {
     "ename": "ERROR",
     "evalue": "Error: package or namespace load failed for ‘plotly’ in loadNamespace(j <- i[[1L]], c(lib.loc, .libPaths()), versionCheck = vI[[j]]):\n namespace ‘rlang’ 0.4.7 is already loaded, but >= 0.4.10 is required\n",
     "output_type": "error",
     "traceback": [
      "Error: package or namespace load failed for ‘plotly’ in loadNamespace(j <- i[[1L]], c(lib.loc, .libPaths()), versionCheck = vI[[j]]):\n namespace ‘rlang’ 0.4.7 is already loaded, but >= 0.4.10 is required\nTraceback:\n",
      "1. library(plotly)",
      "2. tryCatch({\n .     attr(package, \"LibPath\") <- which.lib.loc\n .     ns <- loadNamespace(package, lib.loc)\n .     env <- attachNamespace(ns, pos = pos, deps, exclude, include.only)\n . }, error = function(e) {\n .     P <- if (!is.null(cc <- conditionCall(e))) \n .         paste(\" in\", deparse(cc)[1L])\n .     else \"\"\n .     msg <- gettextf(\"package or namespace load failed for %s%s:\\n %s\", \n .         sQuote(package), P, conditionMessage(e))\n .     if (logical.return) \n .         message(paste(\"Error:\", msg), domain = NA)\n .     else stop(msg, call. = FALSE, domain = NA)\n . })",
      "3. tryCatchList(expr, classes, parentenv, handlers)",
      "4. tryCatchOne(expr, names, parentenv, handlers[[1L]])",
      "5. value[[3L]](cond)",
      "6. stop(msg, call. = FALSE, domain = NA)"
     ]
    }
   ],
   "source": [
    "library(plotly)\n",
    "fig <- plot_ly(midwest, x = ~percollege, color = ~state, type = \"box\")\n",
    "fig"
   ]
  },
  {
   "cell_type": "markdown",
   "metadata": {},
   "source": [
    "### Discussion"
   ]
  },
  {
   "cell_type": "markdown",
   "metadata": {},
   "source": [
    "**What did we find?**\n",
    "\n",
    "From our initial exploration of the data, we found that generally the most unpopular songs (those with popularity ratings of 25 or less) had danceability and energy ratings under 0.5. Very few songs that had popularity ratings between 51 and 75 had danceability and energy values below 0.5. This lead us to believe that a song's danceability and energy levels may have some influence on its popularity. Considering our model's test predictions resulted in a RMSPE of 17.85, our analysis indicates that energy and danceability metrics are resonable to consider in predicting a new song's popularity but should not be the only features of a song that are examined. An RMSPE of 17.85 is not negligible in the context of a response variable with values only ranging from 0-100. As a result, our model may be useful in providing an estimated baseline for predicting a song's popularity which can perhaps be improved by also incorporating qualitative features, such as the song's mood and genre.\n",
    "\n",
    "Due to our exploratory analyses revealing subtle patterns that may suggest the predictive ability of our two predictive variables and the support of Interiano et al.'s (2018) paper, we expected our knn regression model to produce more precise predictions as we expected there to be an inherent positive relationship between a song's popularity, energy, and danceability. However, this result is not entirely unforseen either as we recognize that there are many features, both qualitative and quantitative, that contribute to notions of popularity and thus it may have been unrealistic to suppose that our two quantitative variables could predict a song's popularity alone.\n",
    "\n",
    "**What impact could these findings have?**\n",
    "\n",
    "Our findings could help artists and producers understand the metrics that make music listeners really connect with a song. Making music is both an art and a science, and we hope that our analysis can provide artists and producers with the potential to uncover insights to help them create new music that will resonate with listeners on Spotify and other streaming services. Our findings also have the potential to be used in combination with marketing strategies whereby marketing teams may want to consider using songs that are predicted to be popular in their advertisements in order to entice consumers even more (Lee & Lee, 2018).\n",
    "\n",
    "**What future questions could this lead to?**\n",
    "\n",
    "As this dataset is unique to the listening habits of Spotify users, it would be interesting to compare these results with data from other popular streaming services, like Apple Music, Amazon Music, and Youtube Music, respectively, to see if the metrics reported on these music streaming services provide similar results. There is also oppurtunity to analyze the relationship between song popularity and other quantitative metrics not considered in this project. Furthermore, it may also be interesting to research the role these metrics play in current music production to determine if artists and producers already consider these metrics when creating new songs. "
   ]
  },
  {
   "cell_type": "markdown",
   "metadata": {},
   "source": [
    "### References\n",
    "\n",
    "Hamidani, Z. (2019). *Spotify Tracks DB* [Data set]. Kaggle. https://www.kaggle.com/datasets/zaheenhamidani/ultimate-spotify-tracks-db\n",
    "\n",
    "Interiano, M., Kazemi, K., Wang, L., Yang, J., Yu, Z., & Komarova, N. L. (2018). Musical trends and predictability of success in contemporary songs in and out of the top charts. *Royal Society Open Science, 5*(5), 171274-171274. https://doi.org/10.1098/rsos.171274\n",
    "\n",
    "Lee, J., & Lee, J. (2018). Music popularity: Metrics, characteristics, and audio-based prediction. *IEEE Transactions on Multimedia, 20*(11), 3173-3182. https://doi.org/10.1109/TMM.2018.2820903"
   ]
  },
  {
   "cell_type": "code",
   "execution_count": null,
   "metadata": {},
   "outputs": [],
   "source": []
  },
  {
   "cell_type": "code",
   "execution_count": null,
   "metadata": {},
   "outputs": [],
   "source": []
  },
  {
   "cell_type": "code",
   "execution_count": null,
   "metadata": {},
   "outputs": [],
   "source": []
  },
  {
   "cell_type": "code",
   "execution_count": null,
   "metadata": {},
   "outputs": [],
   "source": []
  }
 ],
 "metadata": {
  "kernelspec": {
   "display_name": "R",
   "language": "R",
   "name": "ir"
  },
  "language_info": {
   "codemirror_mode": "r",
   "file_extension": ".r",
   "mimetype": "text/x-r-source",
   "name": "R",
   "pygments_lexer": "r",
   "version": "4.0.0"
  }
 },
 "nbformat": 4,
 "nbformat_minor": 4
}
