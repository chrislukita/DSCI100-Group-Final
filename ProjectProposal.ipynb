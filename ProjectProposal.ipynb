{
 "cells": [
  {
   "cell_type": "markdown",
   "metadata": {},
   "source": [
    "# DSCI 100 Group Project Proposal\n",
    "\n",
    "Team: Nicolas Mercuri, Tayler Whitehead, Chris Lukita, Stephanie Song\n",
    "\n",
    "## Part 1: Introduction\n",
    "\n",
    "Music plays a huge role in our experience of the world around us. Daily tasks like walking through campus, working on homework assignments, or simply cooking dinner after a long day, are a lot more enjoyable while listening to your favourite playlist.\n",
    "\n",
    "For our group project this semester, we decided to work with a dataset called [Spotify Tracks DB](https://tinyurl.com/3dnwcpe2). This dataset was downloaded from Kaggle.com and was parsed using Spotify's official API. The dataset has over 110,000 unique observations (tracks) and features 18 relevant variables, each describing a specific qualitative or quantitative characteristic of a track.\n",
    "\n",
    "For our predictive question, we are asking if specific quantitative characteristics of a track (danceability, energy, tempo) can help predict a new song's popularity on the music streaming service, Spotify.\n",
    "\n",
    "While we acknowledge that there is also an array of qualitative factors that contribute to a song's popularity such as culture, seasonality, and personal preference, and therefore must not be dismissed, these qualitative factors affect a song's popularity following its release (Lee & Lee, 2018). Our analysis, then, offers the opportunity to explore how quantitative variables can potentially play a role in predicting the popularity of a song before its initial release. "
   ]
  },
  {
   "cell_type": "markdown",
   "metadata": {},
   "source": [
    "## Part 2: Preliminary Exploratory Data Analysis"
   ]
  },
  {
   "cell_type": "markdown",
   "metadata": {},
   "source": [
    "### Reading in Raw Data + Getting Random Sample for Vizualizations"
   ]
  },
  {
   "cell_type": "markdown",
   "metadata": {},
   "source": [
    "First, we load any necessary packages required for our data cleaning and wrangling, initial anlyses, and visualizations. Then we read in our chosen dataset from our GitHub repository."
   ]
  },
  {
   "cell_type": "code",
   "execution_count": 3,
   "metadata": {},
   "outputs": [
    {
     "name": "stderr",
     "output_type": "stream",
     "text": [
      "── \u001b[1mAttaching packages\u001b[22m ─────────────────────────────────────── tidyverse 1.3.0 ──\n",
      "\n",
      "\u001b[32m✔\u001b[39m \u001b[34mggplot2\u001b[39m 3.3.2     \u001b[32m✔\u001b[39m \u001b[34mpurrr  \u001b[39m 0.3.4\n",
      "\u001b[32m✔\u001b[39m \u001b[34mtibble \u001b[39m 3.0.3     \u001b[32m✔\u001b[39m \u001b[34mdplyr  \u001b[39m 1.0.2\n",
      "\u001b[32m✔\u001b[39m \u001b[34mtidyr  \u001b[39m 1.1.2     \u001b[32m✔\u001b[39m \u001b[34mstringr\u001b[39m 1.4.0\n",
      "\u001b[32m✔\u001b[39m \u001b[34mreadr  \u001b[39m 1.3.1     \u001b[32m✔\u001b[39m \u001b[34mforcats\u001b[39m 0.5.0\n",
      "\n",
      "Warning message:\n",
      "“package ‘ggplot2’ was built under R version 4.0.1”\n",
      "Warning message:\n",
      "“package ‘tibble’ was built under R version 4.0.2”\n",
      "Warning message:\n",
      "“package ‘tidyr’ was built under R version 4.0.2”\n",
      "Warning message:\n",
      "“package ‘dplyr’ was built under R version 4.0.2”\n",
      "── \u001b[1mConflicts\u001b[22m ────────────────────────────────────────── tidyverse_conflicts() ──\n",
      "\u001b[31m✖\u001b[39m \u001b[34mdplyr\u001b[39m::\u001b[32mfilter()\u001b[39m masks \u001b[34mstats\u001b[39m::filter()\n",
      "\u001b[31m✖\u001b[39m \u001b[34mdplyr\u001b[39m::\u001b[32mlag()\u001b[39m    masks \u001b[34mstats\u001b[39m::lag()\n",
      "\n",
      "Warning message:\n",
      "“package ‘tidymodels’ was built under R version 4.0.2”\n",
      "── \u001b[1mAttaching packages\u001b[22m ────────────────────────────────────── tidymodels 0.1.1 ──\n",
      "\n",
      "\u001b[32m✔\u001b[39m \u001b[34mbroom    \u001b[39m 0.7.0      \u001b[32m✔\u001b[39m \u001b[34mrecipes  \u001b[39m 0.1.13\n",
      "\u001b[32m✔\u001b[39m \u001b[34mdials    \u001b[39m 0.0.9      \u001b[32m✔\u001b[39m \u001b[34mrsample  \u001b[39m 0.0.7 \n",
      "\u001b[32m✔\u001b[39m \u001b[34minfer    \u001b[39m 0.5.4      \u001b[32m✔\u001b[39m \u001b[34mtune     \u001b[39m 0.1.1 \n",
      "\u001b[32m✔\u001b[39m \u001b[34mmodeldata\u001b[39m 0.0.2      \u001b[32m✔\u001b[39m \u001b[34mworkflows\u001b[39m 0.2.0 \n",
      "\u001b[32m✔\u001b[39m \u001b[34mparsnip  \u001b[39m 0.1.3      \u001b[32m✔\u001b[39m \u001b[34myardstick\u001b[39m 0.0.7 \n",
      "\n",
      "Warning message:\n",
      "“package ‘broom’ was built under R version 4.0.2”\n",
      "Warning message:\n",
      "“package ‘dials’ was built under R version 4.0.2”\n",
      "Warning message:\n",
      "“package ‘infer’ was built under R version 4.0.3”\n",
      "Warning message:\n",
      "“package ‘modeldata’ was built under R version 4.0.1”\n",
      "Warning message:\n",
      "“package ‘parsnip’ was built under R version 4.0.2”\n",
      "Warning message:\n",
      "“package ‘recipes’ was built under R version 4.0.1”\n",
      "Warning message:\n",
      "“package ‘tune’ was built under R version 4.0.2”\n",
      "Warning message:\n",
      "“package ‘workflows’ was built under R version 4.0.2”\n",
      "Warning message:\n",
      "“package ‘yardstick’ was built under R version 4.0.2”\n",
      "── \u001b[1mConflicts\u001b[22m ───────────────────────────────────────── tidymodels_conflicts() ──\n",
      "\u001b[31m✖\u001b[39m \u001b[34mscales\u001b[39m::\u001b[32mdiscard()\u001b[39m masks \u001b[34mpurrr\u001b[39m::discard()\n",
      "\u001b[31m✖\u001b[39m \u001b[34mdplyr\u001b[39m::\u001b[32mfilter()\u001b[39m   masks \u001b[34mstats\u001b[39m::filter()\n",
      "\u001b[31m✖\u001b[39m \u001b[34mrecipes\u001b[39m::\u001b[32mfixed()\u001b[39m  masks \u001b[34mstringr\u001b[39m::fixed()\n",
      "\u001b[31m✖\u001b[39m \u001b[34mdplyr\u001b[39m::\u001b[32mlag()\u001b[39m      masks \u001b[34mstats\u001b[39m::lag()\n",
      "\u001b[31m✖\u001b[39m \u001b[34myardstick\u001b[39m::\u001b[32mspec()\u001b[39m masks \u001b[34mreadr\u001b[39m::spec()\n",
      "\u001b[31m✖\u001b[39m \u001b[34mrecipes\u001b[39m::\u001b[32mstep()\u001b[39m   masks \u001b[34mstats\u001b[39m::step()\n",
      "\n",
      "Warning message:\n",
      "“package ‘cowplot’ was built under R version 4.0.3”\n"
     ]
    }
   ],
   "source": [
    "library(tidyverse)\n",
    "library(repr)\n",
    "library(tidymodels)\n",
    "library(cowplot)\n",
    "library(RColorBrewer)\n",
    "\n",
    "options(repr.plot.width= 30, repr.plot.height= 10)"
   ]
  },
  {
   "cell_type": "code",
   "execution_count": 4,
   "metadata": {},
   "outputs": [
    {
     "name": "stderr",
     "output_type": "stream",
     "text": [
      "Parsed with column specification:\n",
      "cols(\n",
      "  genre = \u001b[31mcol_character()\u001b[39m,\n",
      "  artist_name = \u001b[31mcol_character()\u001b[39m,\n",
      "  track_name = \u001b[31mcol_character()\u001b[39m,\n",
      "  track_id = \u001b[31mcol_character()\u001b[39m,\n",
      "  popularity = \u001b[32mcol_double()\u001b[39m,\n",
      "  acousticness = \u001b[32mcol_double()\u001b[39m,\n",
      "  danceability = \u001b[32mcol_double()\u001b[39m,\n",
      "  duration_ms = \u001b[32mcol_double()\u001b[39m,\n",
      "  energy = \u001b[32mcol_double()\u001b[39m,\n",
      "  instrumentalness = \u001b[32mcol_double()\u001b[39m,\n",
      "  key = \u001b[31mcol_character()\u001b[39m,\n",
      "  liveness = \u001b[32mcol_double()\u001b[39m,\n",
      "  loudness = \u001b[32mcol_double()\u001b[39m,\n",
      "  mode = \u001b[31mcol_character()\u001b[39m,\n",
      "  speechiness = \u001b[32mcol_double()\u001b[39m,\n",
      "  tempo = \u001b[32mcol_double()\u001b[39m,\n",
      "  time_signature = \u001b[31mcol_character()\u001b[39m,\n",
      "  valence = \u001b[32mcol_double()\u001b[39m\n",
      ")\n",
      "\n",
      "Warning message:\n",
      "“1 parsing failure.\n",
      "   row col   expected     actual                                                                                             file\n",
      "115177  -- 18 columns 15 columns 'https://raw.githubusercontent.com/chrislukita/DSCI100-Group-Final/main/data/SpotifyDataset.csv'\n",
      "”\n"
     ]
    }
   ],
   "source": [
    "spotify_raw_data = read_csv(\"https://raw.githubusercontent.com/chrislukita/DSCI100-Group-Final/main/data/SpotifyDataset.csv\")"
   ]
  },
  {
   "cell_type": "markdown",
   "metadata": {},
   "source": [
    "### Cleaning and Wrangling Data"
   ]
  },
  {
   "cell_type": "markdown",
   "metadata": {},
   "source": [
    "We first wrangle the data to only include relevant numerical metrics, and then remove any NA values that may be present."
   ]
  },
  {
   "cell_type": "code",
   "execution_count": 258,
   "metadata": {},
   "outputs": [],
   "source": [
    "spotify_wrangled = spotify_raw_data %>%\n",
    "                    select(popularity: instrumentalness, liveness, loudness, speechiness, tempo, valence) %>%\n",
    "                    na.omit(spotify_wrangled)"
   ]
  },
  {
   "cell_type": "markdown",
   "metadata": {},
   "source": [
    "From here, we create a factor column called \"popular\" which denotes if a song is considered popular or not. For the purposes of our analysis, we determined that a song is popular if its popularity score is greater than or equal to 70 (out of 100)."
   ]
  },
  {
   "cell_type": "code",
   "execution_count": 259,
   "metadata": {},
   "outputs": [],
   "source": [
    "spotify_wrangled = spotify_wrangled %>%\n",
    "                    mutate(popular = popularity >= 70) %>%\n",
    "                    mutate(popular = as.factor(popular))\n",
    "\n",
    "levels(spotify_wrangled$popular)[2] <- 'Yes'\n",
    "levels(spotify_wrangled$popular)[1] <- 'No'"
   ]
  },
  {
   "cell_type": "markdown",
   "metadata": {},
   "source": [
    "To note: 'Yes' means the song is popular and 'No' means the song is not popular, according to how we have decided to classify popularity."
   ]
  },
  {
   "cell_type": "markdown",
   "metadata": {},
   "source": [
    "### Creating Training Data\n",
    "\n",
    "Now that we have our relevant popularity scores, we can create our training dataset which comprises 75% of the total wrangled Spotify dataset. The remaining 25% will be used as our testing dataset."
   ]
  },
  {
   "cell_type": "code",
   "execution_count": 260,
   "metadata": {},
   "outputs": [],
   "source": [
    "spotify_split = initial_split(spotify_wrangled, prop = 0.75, strata = popular)\n",
    "\n",
    "spotify_train = training(spotify_split)\n",
    "spotify_test = testing(spotify_split)"
   ]
  },
  {
   "cell_type": "markdown",
   "metadata": {},
   "source": [
    "### Summarizing the Data"
   ]
  },
  {
   "cell_type": "markdown",
   "metadata": {},
   "source": [
    "Here we provide the summary statistics of all the quantitative variables included in the dataset. It should be noted, however, that our analysis will only be referring to the following variables: popularity, danceability, energy, and tempo where popularity is measured on a scale from 0-100, danceability and energy have been standardized to a scale of 0-1, and tempo is measured in beats per minute (BPM). "
   ]
  },
  {
   "cell_type": "code",
   "execution_count": 261,
   "metadata": {},
   "outputs": [
    {
     "data": {
      "text/plain": [
       "   popularity     acousticness     danceability     duration_ms     \n",
       " Min.   :  0.0   Min.   :0.0000   Min.   :0.0592   Min.   :  15387  \n",
       " 1st Qu.: 31.0   1st Qu.:0.0244   1st Qu.:0.4520   1st Qu.: 186370  \n",
       " Median : 47.0   Median :0.1700   Median :0.5780   Median : 221293  \n",
       " Mean   : 42.9   Mean   :0.3234   Mean   :0.5671   Mean   : 232067  \n",
       " 3rd Qu.: 57.0   3rd Qu.:0.6000   3rd Qu.:0.6960   3rd Qu.: 262680  \n",
       " Max.   :100.0   Max.   :0.9960   Max.   :0.9870   Max.   :4830606  \n",
       "     energy         instrumentalness       liveness          loudness      \n",
       " Min.   :0.000499   Min.   :0.0000000   Min.   :0.00967   Min.   :-46.507  \n",
       " 1st Qu.:0.410000   1st Qu.:0.0000000   1st Qu.:0.09730   1st Qu.:-10.713  \n",
       " Median :0.617000   Median :0.0000502   Median :0.12700   Median : -7.293  \n",
       " Mean   :0.587403   Mean   :0.1138456   Mean   :0.19515   Mean   : -8.752  \n",
       " 3rd Qu.:0.797000   3rd Qu.:0.0171000   3rd Qu.:0.24400   3rd Qu.: -5.204  \n",
       " Max.   :0.999000   Max.   :0.9970000   Max.   :1.00000   Max.   :  3.744  \n",
       "  speechiness          tempo           valence       popular    \n",
       " Min.   :0.02220   Min.   : 32.08   Min.   :0.0000   No :81245  \n",
       " 1st Qu.:0.03640   1st Qu.: 95.53   1st Qu.:0.2560   Yes: 5137  \n",
       " Median :0.05040   Median :119.81   Median :0.4410              \n",
       " Mean   :0.09327   Mean   :119.82   Mean   :0.4558              \n",
       " 3rd Qu.:0.09770   3rd Qu.:139.99   3rd Qu.:0.6450              \n",
       " Max.   :0.96500   Max.   :242.90   Max.   :1.0000              "
      ]
     },
     "metadata": {},
     "output_type": "display_data"
    }
   ],
   "source": [
    "summary(spotify_train)"
   ]
  },
  {
   "cell_type": "markdown",
   "metadata": {},
   "source": [
    "### Visualizing the Data\n",
    "\n",
    "To visualize our data, we will create histograms to show the distribution of values of our main predictive variables: danceability, energy, and tempo."
   ]
  },
  {
   "cell_type": "code",
   "execution_count": 2,
   "metadata": {},
   "outputs": [
    {
     "ename": "ERROR",
     "evalue": "Error in spotify_train %>% ggplot(aes(x = danceability, fill = popular)): could not find function \"%>%\"\n",
     "output_type": "error",
     "traceback": [
      "Error in spotify_train %>% ggplot(aes(x = danceability, fill = popular)): could not find function \"%>%\"\nTraceback:\n"
     ]
    }
   ],
   "source": [
    "danceability_histogram = spotify_train %>%\n",
    "                        ggplot(aes(x = danceability, fill = popular)) +\n",
    "                        geom_histogram() +\n",
    "                        labs(x = \"Distribution of Danceability Values (Standardized)\", y = \"Count of Values\"\n",
    "                            , fill = \"Is This Song Popular?\") + \n",
    "                        ggtitle(\"Danceability Histogram\") +\n",
    "                        theme(text = element_text(size = 20), plot.title = element_text(hjust = 0.5)) + \n",
    "                        scale_fill_brewer(palette = \"Set1\")\n",
    "                        \n",
    "energy_histogram = spotify_train %>%\n",
    "                        ggplot(aes(x = energy, fill = popular)) +\n",
    "                        geom_histogram() +\n",
    "                        labs(x = \"Distribution of Energy Values (Standardized)\", y = \"Count of Values\"\n",
    "                             , fill = \"Is This Song Popular?\") + \n",
    "                        ggtitle(\"Energy Histogram\") +\n",
    "                        theme(text = element_text(size = 20), plot.title = element_text(hjust = 0.5)) + \n",
    "                        scale_fill_brewer(palette = \"Set1\")\n",
    "\n",
    "tempo_histogram = spotify_train %>%\n",
    "                        ggplot(aes(x = tempo, fill = popular)) +\n",
    "                        geom_histogram() +\n",
    "                        labs(x = \"Distribution of Tempo Values (BPM)\", y = \"Count of Values\"\n",
    "                            , fill = \"Is This Song Popular?\") + \n",
    "                        ggtitle(\"Tempo Histogram\") +\n",
    "                        theme(text = element_text(size = 20), plot.title = element_text(hjust = 0.5)) + \n",
    "                        scale_fill_brewer(palette = \"Set1\")\n",
    "\n",
    "plot_grid(danceability_histogram, energy_histogram, tempo_histogram, ncol = 3)"
   ]
  },
  {
   "cell_type": "markdown",
   "metadata": {},
   "source": [
    "We can see that the danceability and tempo values follow a normal distribution, while the energy distributions are skewed to the right. Additionally, the distribution of popular songs within danceability and energy also skew to the right while within tempo, the distribution is skewed to the left."
   ]
  },
  {
   "cell_type": "markdown",
   "metadata": {},
   "source": [
    "## Part 3: Methods\n",
    "\n",
    "**How will we coduct our data analysis?**\n",
    "\n",
    "Our data analysis will adhere to the following structure and format:\n",
    "- Step #1 - Split the data into a training and testing data, respectively. We'll be careful to use relevant proportions of the total data for each set.\n",
    "- Step #2 - Utilize the vfold_cv function to split our training data for cross-validation.\n",
    "- Step #3 - Develop our KNN recipe using relevant class labels and predictors.\n",
    "- Step #4 - Build our nearest neighbors model specification, ensuring that the neighbors parameter is set to tune().\n",
    "- Step #5 - Create workflow using the recipe and model developed in steps 3 and 4.\n",
    "- Step #6 - Choose an optimal K value from this workflow analysis.\n",
    "- Step #7 - Develop a new model specification using the optimal value for K, and then retrain the classifier using fit.\n",
    "- Step #8 - Evaluate accuracy using the testing data.\n",
    "- Step #9 - Develop some visualizations that summarize our analysis, and draft any documentation required to aid understanding of our processes.\n",
    "\n",
    "**Which variables are most important for our analysis?**\n",
    "\n",
    "We expect to rely primarily on the following quantitative variables to predict popularity: danceability, energy, and tempo. \n",
    "\n",
    "**How will we visualize results?**\n",
    "\n",
    "As our prediction algorithm will be dealing with quantitative data, a scatterplot will be useful for visualizing the datapoints within our dataset. The scatterplot will have one of the three chosen metrics (danceability, energy, and tempo) on the x-axis and another on the y-axis. Furthermore, we will colour the data points to indicate which songs are considered popular and which ones are not popular."
   ]
  },
  {
   "cell_type": "code",
   "execution_count": null,
   "metadata": {},
   "outputs": [],
   "source": []
  },
  {
   "cell_type": "markdown",
   "metadata": {},
   "source": [
    "## Part 4: Expected Outcomes and Significance\n",
    "\n",
    "**What do we expect to find?**\n",
    "\n",
    "At first glance, we expect to find that new songs with higher ratings of danceability, energy, and tempo will likely score higher in popularity compared to songs that have lower ratings in these predictive variables. We are hoping to find patterns within the data that may either support this or suggest other possibilities. However, it will be interesting to dive further into this analysis as it is our hope that our assumptions will be challenged and stretched.\n",
    "\n",
    "**What impact could these findings have?**\n",
    "\n",
    "Our findings could help artists and producers understand the metrics that make music listeners really connect with a song. Making music is both an art and a science, and we hope that our analysis can provide artists and producers with the potential to uncover insights to help them create new music that will resonate with listeners on Spotify and other streaming services. Our findings also have the potential to be used in combination with marketing strategies whereby marketing teams may want to consider using songs that are predicted to be popular in their advertisements in order to entice consumers even more (Lee & Lee, 2018).\n",
    "\n",
    "**What future questions could this lead to?**\n",
    "\n",
    "As this dataset is unique to the listening habits of Spotify users, it would be interesting to compare these results with data from other popular streaming services, like Apple Music, Amazon Music, and Youtube Music, respectively, to see if the metrics reported on these music streaming services provide similar results. There is also oppurtunity to analyze the relationship between song popularity and other quantitative metrics not considered in this project. Furthermore, it may also be interesting to research the role these metrics play in current music production to determine if artists and producers already consider these metrics when creating new songs. "
   ]
  },
  {
   "cell_type": "markdown",
   "metadata": {},
   "source": [
    "**References:**\n",
    "Lee, J., & Lee, J. (2018). Music popularity: Metrics, characteristics, and audio-based prediction. IEEE Transactions on Multimedia, 20(11), 3173-3182. https://doi.org/10.1109/TMM.2018.2820903"
   ]
  },
  {
   "cell_type": "code",
   "execution_count": null,
   "metadata": {},
   "outputs": [],
   "source": []
  }
 ],
 "metadata": {
  "kernelspec": {
   "display_name": "R",
   "language": "R",
   "name": "ir"
  },
  "language_info": {
   "codemirror_mode": "r",
   "file_extension": ".r",
   "mimetype": "text/x-r-source",
   "name": "R",
   "pygments_lexer": "r",
   "version": "4.0.0"
  }
 },
 "nbformat": 4,
 "nbformat_minor": 4
}
