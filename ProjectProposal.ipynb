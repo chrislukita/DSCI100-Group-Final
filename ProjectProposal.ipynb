{
 "cells": [
  {
   "cell_type": "markdown",
   "metadata": {},
   "source": [
    "# DSCI 100 Group Project Proposal\n",
    "\n",
    "Team: Nicolas Mercuri, Tayler Whitehead, Chris Lukita, Stephanie Song\n",
    "\n",
    "## Part 1: Introduction\n",
    "\n",
    "Music plays a huge role in our experience of the world around us. Daily tasks like walking through campus, completing homework assignments, or simply cooking dinner after a long day, is a lot more enjoable while listening to your favourite song or playlist.\n",
    "\n",
    "For our group project this semester, we decided to work with a dataset called [Spotify Tracks DB](https://tinyurl.com/3dnwcpe2). This dataset was downloaded from Kaggle.com and was parsed using Spotify's official API. The dataset has over 230,000 unique observations (tracks) and features 18 relevant variables, each describing a specific qualitative or quantitative characteristic of a track.\n",
    "\n",
    "For our predictive question, we are hoping to determine if specific quantitative characteristics of a track (daceability, energy, duration (ms), and tempo) can help predict a new song's populatiry on Spotify."
   ]
  },
  {
   "cell_type": "markdown",
   "metadata": {},
   "source": []
  },
  {
   "cell_type": "markdown",
   "metadata": {},
   "source": [
    "## Part 2: Preliminary Exploratory Data Analysis"
   ]
  },
  {
   "cell_type": "code",
   "execution_count": 10,
   "metadata": {},
   "outputs": [
    {
     "name": "stderr",
     "output_type": "stream",
     "text": [
      "Parsed with column specification:\n",
      "cols(\n",
      "  genre = \u001b[31mcol_character()\u001b[39m,\n",
      "  artist_name = \u001b[31mcol_character()\u001b[39m,\n",
      "  track_name = \u001b[31mcol_character()\u001b[39m,\n",
      "  track_id = \u001b[31mcol_character()\u001b[39m,\n",
      "  popularity = \u001b[32mcol_double()\u001b[39m,\n",
      "  acousticness = \u001b[32mcol_double()\u001b[39m,\n",
      "  danceability = \u001b[32mcol_double()\u001b[39m,\n",
      "  duration_ms = \u001b[32mcol_double()\u001b[39m,\n",
      "  energy = \u001b[32mcol_double()\u001b[39m,\n",
      "  instrumentalness = \u001b[32mcol_double()\u001b[39m,\n",
      "  key = \u001b[31mcol_character()\u001b[39m,\n",
      "  liveness = \u001b[32mcol_double()\u001b[39m,\n",
      "  loudness = \u001b[32mcol_double()\u001b[39m,\n",
      "  mode = \u001b[31mcol_character()\u001b[39m,\n",
      "  speechiness = \u001b[32mcol_double()\u001b[39m,\n",
      "  tempo = \u001b[32mcol_double()\u001b[39m,\n",
      "  time_signature = \u001b[31mcol_character()\u001b[39m,\n",
      "  valence = \u001b[32mcol_double()\u001b[39m\n",
      ")\n",
      "\n",
      "Warning message:\n",
      "“1 parsing failure.\n",
      "   row col   expected     actual                      file\n",
      "115177  -- 18 columns 15 columns 'data/SpotifyDataset.csv'\n",
      "”\n"
     ]
    }
   ],
   "source": [
    "library(tidyverse)\n",
    "library(repr)\n",
    "\n",
    "spotify_raw_data = read_csv(\"data/SpotifyDataset.csv\")"
   ]
  },
  {
   "cell_type": "markdown",
   "metadata": {},
   "source": [
    "## Part 3: Methods\n",
    "\n",
    "**How will we coduct our data analysis?**\n",
    "\n",
    "PLACEHOLDER\n",
    "\n",
    "**Which variables are most important for our analysis?**\n",
    "\n",
    "We expect to rely primarily on the following variables \n",
    "    qualitative columns\n",
    "    - genre, artist_name, and track_name, as well as quantitative columns like danceability, energy, duration_ms, and tempo.\n",
    "\n",
    "**How will we visualize results?**\n",
    "\n",
    "As our prediction algorithm will be dealing with quantitative data, a scatterplot will be useful for visualizing the different datapoints within our dataset."
   ]
  },
  {
   "cell_type": "code",
   "execution_count": null,
   "metadata": {},
   "outputs": [],
   "source": []
  },
  {
   "cell_type": "markdown",
   "metadata": {},
   "source": [
    "## Part 4: Expected Outcomes and Significance\n",
    "\n",
    "**What do we expect to find?**\n",
    "\n",
    "At first glance, we expect to find that new songs with higher ratings on both danceability and energy will likely score higher on popularity compared to songs that have lower ratings on these predictive variables. However, it will be interesting to dive further into this analysis and it our hope that our assumptions will be challenged and stretched.\n",
    "\n",
    "**What impact could these findings have?**\n",
    "\n",
    "Our findings could help artists and producers understand the metrics that make listeners really connect with a song. Making music is both an art and a science, and we hope that our analysis can provide artists and producers uncover insights to help them create new music that will resonate with listeners on Spotify and other streaming services.\n",
    "\n",
    "**What future questions could this lead to?**\n",
    "\n",
    "As this dataset is unique to the listening habits of Spotify users, it would be interesting to compare these results with data from other popular streaming services, like Apple Music, Amazon Music, and Youtube Music, respectively."
   ]
  },
  {
   "cell_type": "code",
   "execution_count": null,
   "metadata": {},
   "outputs": [],
   "source": []
  },
  {
   "cell_type": "code",
   "execution_count": null,
   "metadata": {},
   "outputs": [],
   "source": []
  },
  {
   "cell_type": "code",
   "execution_count": null,
   "metadata": {},
   "outputs": [],
   "source": []
  }
 ],
 "metadata": {
  "kernelspec": {
   "display_name": "R",
   "language": "R",
   "name": "ir"
  },
  "language_info": {
   "codemirror_mode": "r",
   "file_extension": ".r",
   "mimetype": "text/x-r-source",
   "name": "R",
   "pygments_lexer": "r",
   "version": "4.0.0"
  }
 },
 "nbformat": 4,
 "nbformat_minor": 4
}
