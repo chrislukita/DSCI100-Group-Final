{
 "cells": [
  {
   "cell_type": "markdown",
   "metadata": {},
   "source": [
    "# DSCI 100 Group Project Proposal\n",
    "\n",
    "Team: Nicolas Mercuri, Tayler Whitehead, Chris Lukita, Stephanie Song\n",
    "\n",
    "## Part 1: Introduction\n",
    "\n",
    "Music plays a huge role in our experience of the world around us. Daily tasks like walking through campus, completing homework assignments, or simply cooking dinner after a long day, is a lot more enjoable while listening to your favourite song or playlist.\n",
    "\n",
    "For our group project this semester, we decided to work with a dataset called [Spotify Tracks DB](https://tinyurl.com/3dnwcpe2). This dataset was downloaded from Kaggle.com and was parsed using Spotify's official API. The dataset has over 230,000 unique observations (tracks) and features 18 relevant variables, each describing a specific qualitative or quantitative characteristic of a track.\n",
    "\n",
    "For our predictive question, we are hoping to determine if specific quantitative characteristics of a track (daceability, energy, duration (ms), and tempo) can help predict a new song's populatiry on Spotify."
   ]
  },
  {
   "cell_type": "code",
   "execution_count": 4,
   "metadata": {},
   "outputs": [
    {
     "ename": "ERROR",
     "evalue": "Error in parse(text = x, srcfile = src): <text>:1:6: unexpected symbol\n1: TEST COMMIT\n         ^\n",
     "output_type": "error",
     "traceback": [
      "Error in parse(text = x, srcfile = src): <text>:1:6: unexpected symbol\n1: TEST COMMIT\n         ^\nTraceback:\n"
     ]
    }
   ],
   "source": [
    "TEST COMMIT:\n",
    "CHRISTANTYO\n",
    "NiickMerc\n",
    "taylerw"
   ]
  },
  {
   "cell_type": "markdown",
   "metadata": {},
   "source": [
    "## Part 2: Preliminary Exploratory Data Analysis"
   ]
  },
  {
   "cell_type": "code",
   "execution_count": 2,
   "metadata": {},
   "outputs": [
    {
     "ename": "ERROR",
     "evalue": "Error: 'data/SpotifyDataset.csv' does not exist in current working directory ('/home/jupyter/DSCI100-Group-Final').\n",
     "output_type": "error",
     "traceback": [
      "Error: 'data/SpotifyDataset.csv' does not exist in current working directory ('/home/jupyter/DSCI100-Group-Final').\nTraceback:\n",
      "1. read_csv(\"data/SpotifyDataset.csv\")",
      "2. read_delimited(file, tokenizer, col_names = col_names, col_types = col_types, \n .     locale = locale, skip = skip, skip_empty_rows = skip_empty_rows, \n .     comment = comment, n_max = n_max, guess_max = guess_max, \n .     progress = progress)",
      "3. standardise_path(file)",
      "4. check_path(path)",
      "5. stop(\"'\", path, \"' does not exist\", if (!is_absolute_path(path)) paste0(\" in current working directory ('\", \n .     getwd(), \"')\"), \".\", call. = FALSE)"
     ]
    }
   ],
   "source": [
    "library(tidyverse)\n",
    "library(repr)\n",
    "\n",
    "spotify_raw_data = read_csv(\"data/SpotifyDataset.csv\")"
   ]
  },
  {
   "cell_type": "markdown",
   "metadata": {},
   "source": [
    "## Part 3: Methods\n",
    "\n",
    "**How will we coduct our data analysis?**\n",
    "\n",
    "PLACEHOLDER\n",
    "\n",
    "**Which variables are most important for our analysis?**\n",
    "\n",
    "We expect to rely primarily on the following variables \n",
    "    qualitative columns\n",
    "    - genre, artist_name, and track_name, as well as quantitative columns like danceability, energy, duration_ms, and tempo.\n",
    "\n",
    "**How will we visualize results?**\n",
    "\n",
    "As our prediction algorithm will be dealing with quantitative data, a scatterplot will be useful for visualizing the different datapoints within our dataset."
   ]
  },
  {
   "cell_type": "code",
   "execution_count": null,
   "metadata": {},
   "outputs": [],
   "source": []
  },
  {
   "cell_type": "markdown",
   "metadata": {},
   "source": [
    "## Part 4: Expected Outcomes and Significance\n",
    "\n",
    "**What do we expect to find?**\n",
    "\n",
    "At first glance, we expect to find that new songs with higher ratings on both danceability and energy will likely score higher on popularity compared to songs that have lower ratings on these predictive variables. However, it will be interesting to dive further into this analysis and it our hope that our assumptions will be challenged and stretched.\n",
    "\n",
    "**What impact could these findings have?**\n",
    "\n",
    "Our findings could help artists and producers understand the metrics that make listeners really connect with a song. Making music is both an art and a science, and we hope that our analysis can provide artists and producers uncover insights to help them create new music that will resonate with listeners on Spotify and other streaming services.\n",
    "\n",
    "**What future questions could this lead to?**\n",
    "\n",
    "As this dataset is unique to the listening habits of Spotify users, it would be interesting to compare these results with data from other popular streaming services, like Apple Music, Amazon Music, and Youtube Music, respectively."
   ]
  },
  {
   "cell_type": "code",
   "execution_count": null,
   "metadata": {},
   "outputs": [],
   "source": []
  },
  {
   "cell_type": "code",
   "execution_count": null,
   "metadata": {},
   "outputs": [],
   "source": []
  },
  {
   "cell_type": "code",
   "execution_count": null,
   "metadata": {},
   "outputs": [],
   "source": []
  }
 ],
 "metadata": {
  "kernelspec": {
   "display_name": "R",
   "language": "R",
   "name": "ir"
  },
  "language_info": {
   "codemirror_mode": "r",
   "file_extension": ".r",
   "mimetype": "text/x-r-source",
   "name": "R",
   "pygments_lexer": "r",
   "version": "4.0.0"
  }
 },
 "nbformat": 4,
 "nbformat_minor": 4
}
